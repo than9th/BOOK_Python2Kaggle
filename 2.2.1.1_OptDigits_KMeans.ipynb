{
 "cells": [
  {
   "cell_type": "markdown",
   "metadata": {},
   "source": [
    "# 1. KMeans test"
   ]
  },
  {
   "cell_type": "code",
   "execution_count": 4,
   "metadata": {},
   "outputs": [],
   "source": [
    "import numpy as np\n",
    "import pandas as pd"
   ]
  },
  {
   "cell_type": "code",
   "execution_count": 5,
   "metadata": {},
   "outputs": [],
   "source": [
    "digits_train = pd.read_csv('d:/Data/Python2Kaggle/optdigits/optdigits.tra', header=None)\n",
    "digits_test = pd.read_csv('d:/Data/Python2Kaggle/optdigits/optdigits.tes', header=None)"
   ]
  },
  {
   "cell_type": "code",
   "execution_count": 6,
   "metadata": {},
   "outputs": [],
   "source": [
    "X_train = digits_train[np.arange(64)]\n",
    "y_train = digits_train[64]\n",
    "X_test = digits_test[np.arange(64)]\n",
    "y_test = digits_test[64]"
   ]
  },
  {
   "cell_type": "code",
   "execution_count": 7,
   "metadata": {},
   "outputs": [],
   "source": [
    "from sklearn.cluster import KMeans"
   ]
  },
  {
   "cell_type": "code",
   "execution_count": 8,
   "metadata": {},
   "outputs": [],
   "source": [
    "kmeans = KMeans(n_clusters=10)"
   ]
  },
  {
   "cell_type": "code",
   "execution_count": 9,
   "metadata": {},
   "outputs": [
    {
     "name": "stdout",
     "output_type": "stream",
     "text": [
      "      0   1   2   3   4   5   6   7   8   9  ...  54  55  56  57  58  59  60  \\\n",
      "0      0   1   6  15  12   1   0   0   0   7 ...   0   0   0   0   6  14   7   \n",
      "1      0   0  10  16   6   0   0   0   0   7 ...   3   0   0   0  10  16  15   \n",
      "2      0   0   8  15  16  13   0   0   0   1 ...   0   0   0   0   9  14   0   \n",
      "3      0   0   0   3  11  16   0   0   0   0 ...   0   0   0   0   0   1  15   \n",
      "4      0   0   5  14   4   0   0   0   0   0 ...  12   0   0   0   4  12  14   \n",
      "5      0   0  11  16  10   1   0   0   0   4 ...   8   3   0   0  10  16  16   \n",
      "6      0   0   1  11  13  11   7   0   0   0 ...   0   0   0   0   1  13   5   \n",
      "7      0   0   8  10   8   7   2   0   0   1 ...   0   0   0   0   4  13   8   \n",
      "8      0   0  15   2  14  13   2   0   0   0 ...   0   0   0   0  10  12   5   \n",
      "9      0   0   3  13  13   2   0   0   0   6 ...  12   0   0   0   3  15  11   \n",
      "10     0   0   6  14  14  16  16   8   0   0 ...   0   0   0   0  10  12   0   \n",
      "11     0   0   0   3  16  11   1   0   0   0 ...   0   0   0   0   0   2  14   \n",
      "12     0   0   0   4  13  16  16   3   0   0 ...   0   0   0   0   0   5  15   \n",
      "13     0   0   7  12   6   2   0   0   0   0 ...   0   0   0   0   5  16   9   \n",
      "14     0   0   7  11  11   6   0   0   0   9 ...  12   0   0   0  14  16  12   \n",
      "15     0   1  10  15   8   0   0   0   0   6 ...   0   0   0   0   9  15   8   \n",
      "16     0   0   0   1  11   7   0   0   0   0 ...   0   0   0   0   0   3  15   \n",
      "17     0   0   5  12  16  16   3   0   0   0 ...   0   0   0   0   8  12   0   \n",
      "18     0   0   1   8  13  13   2   0   0   4 ...   2   0   0   0   1  13  12   \n",
      "19     0   0   0   2  13  12   4   0   0   0 ...   0   0   0   0   0   0  15   \n",
      "20     0   0   4  11  15  16  15   0   0   0 ...   0   0   0   0   6  14   2   \n",
      "21     0   0   4  10  13  11   1   0   0   2 ...   0   0   0   0   6  13  11   \n",
      "22     0   0   3  11  13  14   6   0   0   0 ...   0   0   0   0   3  13  10   \n",
      "23     0   0   1   4  11  13   7   0   0   2 ...   0   0   0   0   0   1  14   \n",
      "24     0   0   9  13   1   0   0   0   0   0 ...   8   5   0   0   4  15  16   \n",
      "25     0   0   9  16  11   0   0   0   0   4 ...  11   1   0   0  10  16   9   \n",
      "26     0   0   2  13   9   0   0   0   0   0 ...   1   0   0   0   3  16  14   \n",
      "27     0   0   0  10  12   0   0   0   0   0 ...  14   0   0   0   1  11  14   \n",
      "28     0   0   0   0  10  13   0   0   0   0 ...   0   0   0   0   0   0   8   \n",
      "29     0   0   7   9  13  11   2   0   0   6 ...   2   0   0   0  13  12   8   \n",
      "...   ..  ..  ..  ..  ..  ..  ..  ..  ..  .. ...  ..  ..  ..  ..  ..  ..  ..   \n",
      "3793   0   0  15  15  16  14   1   0   0   3 ...   0   0   0   0  15  16  12   \n",
      "3794   0   0   2  13  16  15   4   0   0   0 ...   0   0   0   0   3  14   1   \n",
      "3795   0   0  12  16   7   0   0   0   0   2 ...   0   0   0   0  11  16  16   \n",
      "3796   0   0   0   3  13   0   0   0   0   0 ...   0   0   0   0   0   6  12   \n",
      "3797   0   0   0  12   8   0   0   0   0   0 ...   0   0   0   0   0  14   6   \n",
      "3798   0   0   0   9  12   0   0   0   0   0 ...   0   0   0   0   0  10  11   \n",
      "3799   0   0   5  16  13   1   0   0   0   0 ...  12   0   0   1   6  10  12   \n",
      "3800   0   0   6  16   8   0   0   0   0   2 ...  15   0   0   0   7  13  16   \n",
      "3801   0   0   5  16  11   0   0   0   0   1 ...   0   0   0   0   4  14  12   \n",
      "3802   0   1  12  16  14   4   0   0   0   8 ...   8   0   0   0  13  15  15   \n",
      "3803   0   0   3  14  13   3   0   0   0   0 ...   2   0   0   0   3  13  13   \n",
      "3804   0   0  12  16  16  10   1   0   0   0 ...  16   0   0   1  10  16  16   \n",
      "3805   0   0   0   8  11   0   0   0   0   0 ...   0   0   0   0   0   7  12   \n",
      "3806   0   1   9  16  14   6   0   0   0   5 ...   0   0   0   0  11  16   7   \n",
      "3807   0   0   4  14  15   3   0   0   0   0 ...   0   0   0   0   3  14  14   \n",
      "3808   0   2  15  16  15   1   0   0   0   3 ...   7   0   0   0  14  13  16   \n",
      "3809   0   0   5  15  16   6   0   0   0   0 ...  10   0   0   0   5  15  16   \n",
      "3810   0   0   4  16  11   1   0   0   0   0 ...   0   0   0   0   2  12  16   \n",
      "3811   0   0   0   0   7  11   1   0   0   0 ...   0   0   0   0   2   0   7   \n",
      "3812   0   0   0   6  13   0   0   0   0   0 ...   0   0   0   0   0   6   9   \n",
      "3813   0   0   0   6   8   0   0   0   0   0 ...   0   0   0   1   4   9   8   \n",
      "3814   0   0   9  16   6   0   0   0   0   2 ...   0   0   0   0  10  13   1   \n",
      "3815   0   0   9  16  12   1   0   0   0   3 ...  16   0   0   0   8  16  16   \n",
      "3816   0   1  10  16  16   4   0   0   0   8 ...   5   0   0   2  13  16  12   \n",
      "3817   0   0   6  16  11   0   0   0   0   1 ...   4   0   0   1   7  14  16   \n",
      "3818   0   0   5  13  11   2   0   0   0   2 ...  10   0   0   0   8  13  15   \n",
      "3819   0   0   0   1  12   1   0   0   0   0 ...   0   0   0   0   0   4   9   \n",
      "3820   0   0   3  15   0   0   0   0   0   0 ...   4   0   0   0   4  14  16   \n",
      "3821   0   0   6  16   2   0   0   0   0   0 ...  15   0   0   0   5  16  16   \n",
      "3822   0   0   2  15  16  13   1   0   0   0 ...   0   0   0   0   4  14   1   \n",
      "\n",
      "      61  62  63  \n",
      "0      1   0   0  \n",
      "1      3   0   0  \n",
      "2      0   0   0  \n",
      "3      2   0   0  \n",
      "4      7   0   0  \n",
      "5     16  16   6  \n",
      "6      0   0   0  \n",
      "7      0   0   0  \n",
      "8      0   0   0  \n",
      "9      6   0   0  \n",
      "10     0   0   0  \n",
      "11    14   1   0  \n",
      "12     4   0   0  \n",
      "13     0   0   0  \n",
      "14    10   1   0  \n",
      "15     0   0   0  \n",
      "16     0   0   0  \n",
      "17     0   0   0  \n",
      "18     4   0   0  \n",
      "19     3   0   0  \n",
      "20     0   0   0  \n",
      "21     1   0   0  \n",
      "22     0   0   0  \n",
      "23     3   0   0  \n",
      "24    16  16  16  \n",
      "25     9  13   6  \n",
      "26     4   0   0  \n",
      "27    12   1   0  \n",
      "28    15   2   0  \n",
      "29     1   0   0  \n",
      "...   ..  ..  ..  \n",
      "3793   0   0   0  \n",
      "3794   0   0   0  \n",
      "3795  16  16   8  \n",
      "3796   0   0   0  \n",
      "3797   0   0   0  \n",
      "3798   0   0   0  \n",
      "3799  12   2   0  \n",
      "3800  13   9   0  \n",
      "3801   2   0   0  \n",
      "3802  10   2   0  \n",
      "3803   6   0   0  \n",
      "3804  16   7   0  \n",
      "3805   0   0   0  \n",
      "3806   0   0   0  \n",
      "3807   6   0   0  \n",
      "3808  11   1   0  \n",
      "3809  15   1   0  \n",
      "3810  11   1   0  \n",
      "3811  11   0   0  \n",
      "3812   0   0   0  \n",
      "3813   0   0   0  \n",
      "3814   0   0   0  \n",
      "3815  16   8   0  \n",
      "3816   5   0   0  \n",
      "3817  12   1   0  \n",
      "3818  10   1   0  \n",
      "3819   0   0   0  \n",
      "3820   9   0   0  \n",
      "3821  16   5   0  \n",
      "3822   0   0   0  \n",
      "\n",
      "[3823 rows x 64 columns]\n"
     ]
    }
   ],
   "source": [
    "print(X_train)"
   ]
  },
  {
   "cell_type": "code",
   "execution_count": 10,
   "metadata": {},
   "outputs": [
    {
     "data": {
      "text/plain": [
       "KMeans(algorithm='auto', copy_x=True, init='k-means++', max_iter=300,\n",
       "    n_clusters=10, n_init=10, n_jobs=1, precompute_distances='auto',\n",
       "    random_state=None, tol=0.0001, verbose=0)"
      ]
     },
     "execution_count": 10,
     "metadata": {},
     "output_type": "execute_result"
    }
   ],
   "source": [
    "kmeans.fit(X_train)"
   ]
  },
  {
   "cell_type": "code",
   "execution_count": 11,
   "metadata": {},
   "outputs": [],
   "source": [
    "y_pred = kmeans.predict(X_test)"
   ]
  },
  {
   "cell_type": "code",
   "execution_count": 12,
   "metadata": {},
   "outputs": [],
   "source": [
    "from sklearn import metrics"
   ]
  },
  {
   "cell_type": "code",
   "execution_count": 13,
   "metadata": {},
   "outputs": [
    {
     "name": "stdout",
     "output_type": "stream",
     "text": [
      "0.6671867157826549\n"
     ]
    }
   ],
   "source": [
    "print(metrics.adjusted_rand_score(y_test, y_pred))"
   ]
  },
  {
   "cell_type": "markdown",
   "metadata": {},
   "source": [
    "# 2. KMeans usage"
   ]
  },
  {
   "cell_type": "code",
   "execution_count": 14,
   "metadata": {},
   "outputs": [],
   "source": [
    "import matplotlib.pyplot as plt\n",
    "from sklearn.metrics import silhouette_score"
   ]
  },
  {
   "cell_type": "code",
   "execution_count": 16,
   "metadata": {},
   "outputs": [],
   "source": [
    "x1 = np.array([1,2,3,1,5,6,5,5,6,7,8,9,7,9])\n",
    "x2 = np.array([1,3,2,2,8,6,7,6,7,1,2,1,1,3])"
   ]
  },
  {
   "cell_type": "code",
   "execution_count": 17,
   "metadata": {},
   "outputs": [
    {
     "name": "stdout",
     "output_type": "stream",
     "text": [
      "(1, 1)\n",
      "(2, 3)\n",
      "(3, 2)\n",
      "(1, 2)\n",
      "(5, 8)\n",
      "(6, 6)\n",
      "(5, 7)\n",
      "(5, 6)\n",
      "(6, 7)\n",
      "(7, 1)\n",
      "(8, 2)\n",
      "(9, 1)\n",
      "(7, 1)\n",
      "(9, 3)\n"
     ]
    }
   ],
   "source": [
    "X = zip(x1, x2)\n",
    "for i in X:\n",
    "  print(i)"
   ]
  },
  {
   "cell_type": "code",
   "execution_count": 18,
   "metadata": {},
   "outputs": [
    {
     "data": {
      "text/plain": [
       "[(1, 1),\n",
       " (2, 3),\n",
       " (3, 2),\n",
       " (1, 2),\n",
       " (5, 8),\n",
       " (6, 6),\n",
       " (5, 7),\n",
       " (5, 6),\n",
       " (6, 7),\n",
       " (7, 1),\n",
       " (8, 2),\n",
       " (9, 1),\n",
       " (7, 1),\n",
       " (9, 3)]"
      ]
     },
     "execution_count": 18,
     "metadata": {},
     "output_type": "execute_result"
    }
   ],
   "source": [
    "X = zip(x1, x2)\n",
    "list(X)"
   ]
  },
  {
   "cell_type": "code",
   "execution_count": 19,
   "metadata": {},
   "outputs": [],
   "source": [
    "# X = np.array(zip(x1, x2)).reshape(len(x1),2)\n",
    "X = np.array(list(zip(x1, x2))).reshape(len(x1),2)"
   ]
  },
  {
   "cell_type": "code",
   "execution_count": 20,
   "metadata": {},
   "outputs": [
    {
     "data": {
      "text/plain": [
       "array([[1, 1],\n",
       "       [2, 3],\n",
       "       [3, 2],\n",
       "       [1, 2],\n",
       "       [5, 8],\n",
       "       [6, 6],\n",
       "       [5, 7],\n",
       "       [5, 6],\n",
       "       [6, 7],\n",
       "       [7, 1],\n",
       "       [8, 2],\n",
       "       [9, 1],\n",
       "       [7, 1],\n",
       "       [9, 3]])"
      ]
     },
     "execution_count": 20,
     "metadata": {},
     "output_type": "execute_result"
    }
   ],
   "source": [
    "X"
   ]
  },
  {
   "cell_type": "code",
   "execution_count": 21,
   "metadata": {},
   "outputs": [
    {
     "data": {
      "text/plain": [
       "<matplotlib.collections.PathCollection at 0x9df9cf8>"
      ]
     },
     "execution_count": 21,
     "metadata": {},
     "output_type": "execute_result"
    },
    {
     "data": {
      "image/png": "[encoded data removed]",
      "text/plain": [
       "<matplotlib.figure.Figure at 0xc75e710>"
      ]
     },
     "metadata": {},
     "output_type": "display_data"
    }
   ],
   "source": []
  },
  {
   "cell_type": "code",
   "execution_count": 22,
   "metadata": {},
   "outputs": [],
   "source": []
  },
  {
   "cell_type": "code",
   "execution_count": 23,
   "metadata": {},
   "outputs": [],
   "source": []
  },
  {
   "cell_type": "code",
   "execution_count": 64,
   "metadata": {},
   "outputs": [
    {
     "data": {
      "image/png": "[encoded data removed]",
      "text/plain": [
       "<matplotlib.figure.Figure at 0xcae7ba8>"
      ]
     },
     "metadata": {},
     "output_type": "display_data"
    }
   ],
   "source": [
    "plt.figure(figsize=(12,20))\n",
    "\n",
    "plt.subplot(4,2,1)\n",
    "plt.xlim([0,10])\n",
    "plt.ylim([0,10])\n",
    "plt.title('Instances')\n",
    "plt.scatter(x1,x2)\n",
    "\n",
    "colors = ['b', 'g', 'r', 'c', 'm', 'y', 'k', 'b']\n",
    "markers = ['o', 's', 'D', 'v', '^', 'p', '*', '+']\n",
    "\n",
    "clusters = [2,3,4,5,6,7,8]\n",
    "\n",
    "subplot_counter = 1\n",
    "sc_scores=[]\n",
    "\n",
    "for t in clusters:\n",
    "  subplot_counter += 1\n",
    "  plt.subplot(4,2,subplot_counter)\n",
    "  kmeans_model = KMeans(n_clusters=t).fit(X)\n",
    "  sc_score = silhouette_score(X, kmeans_model.labels_, metric='euclidean')\n",
    "  sc_scores.append(sc_score)\n",
    "  for i,l in enumerate(kmeans_model.labels_):\n",
    "    plt.plot(x1[i], x2[i], color=colors[l], marker=markers[l], ls='None')\n",
    "    plt.xlim([0,10])\n",
    "    plt.ylim([0,10])\n",
    "    plt.title('K=%s, silhouette coeffient=%0.03f' %(t, sc_score))"
   ]
  },
  {
   "cell_type": "code",
   "execution_count": 59,
   "metadata": {},
   "outputs": [
    {
     "data": {
      "text/plain": [
       "[0.47114752373147084,\n",
       " 0.7215299149983971,\n",
       " 0.644424904925249,\n",
       " 0.5548170502705031,\n",
       " 0.3423616285814178,\n",
       " 0.36107663522931677,\n",
       " 0.3153915867756277]"
      ]
     },
     "execution_count": 59,
     "metadata": {},
     "output_type": "execute_result"
    }
   ],
   "source": [
    "sc_scores"
   ]
  },
  {
   "cell_type": "code",
   "execution_count": 60,
   "metadata": {},
   "outputs": [
    {
     "data": {
      "image/png": "[encoded data removed]",
      "text/plain": [
       "<matplotlib.figure.Figure at 0x9f8c0f0>"
      ]
     },
     "metadata": {},
     "output_type": "display_data"
    }
   ],
   "source": [
    "plt.figure()\n",
    "plt.plot(clusters, sc_scores, '*-')\n",
    "plt.xlabel('Number of Clusters')\n",
    "plt.ylabel('Silhouette Coeffient Score')\n",
    "plt.show()"
   ]
  },
  {
   "cell_type": "markdown",
   "metadata": {},
   "source": [
    "# 3. Elbow method"
   ]
  },
  {
   "cell_type": "code",
   "execution_count": 66,
   "metadata": {},
   "outputs": [],
   "source": [
    "from scipy.spatial.distance import cdist"
   ]
  },
  {
   "cell_type": "code",
   "execution_count": 69,
   "metadata": {},
   "outputs": [],
   "source": [
    "cluster1 = np.random.uniform(0.5, 1.5, (2, 10))\n",
    "cluster2 = np.random.uniform(5.5, 6.5, (2, 10))\n",
    "cluster3 = np.random.uniform(3.0, 4.0, (2, 10))"
   ]
  },
  {
   "cell_type": "code",
   "execution_count": 76,
   "metadata": {},
   "outputs": [],
   "source": [
    "X1 = np.hstack((cluster1, cluster2, cluster3)).T"
   ]
  },
  {
   "cell_type": "code",
   "execution_count": 77,
   "metadata": {},
   "outputs": [
    {
     "data": {
      "image/png": "[encoded data removed]",
      "text/plain": [
       "<matplotlib.figure.Figure at 0xf309fd0>"
      ]
     },
     "metadata": {},
     "output_type": "display_data"
    }
   ],
   "source": [
    "plt.scatter(X1[:,0], X1[:,1])\n",
    "plt.xlabel('x1')\n",
    "plt.ylabel('x2')\n",
    "plt.show()"
   ]
  },
  {
   "cell_type": "code",
   "execution_count": 81,
   "metadata": {},
   "outputs": [],
   "source": [
    "K = range(1, 10)\n",
    "meandistortions = []"
   ]
  },
  {
   "cell_type": "code",
   "execution_count": 82,
   "metadata": {},
   "outputs": [],
   "source": [
    "for k in K:\n",
    "  kmeans = KMeans(n_clusters=k)\n",
    "  kmeans.fit(X1)\n",
    "  meandistortions.append(sum(np.min(cdist(X1, kmeans.cluster_centers_, 'euclidean'), axis = 1))/X1.shape[0])"
   ]
  },
  {
   "cell_type": "code",
   "execution_count": 83,
   "metadata": {},
   "outputs": [
    {
     "data": {
      "image/png": "[encoded data removed]",
      "text/plain": [
       "<matplotlib.figure.Figure at 0x9f1c7b8>"
      ]
     },
     "metadata": {},
     "output_type": "display_data"
    }
   ],
   "source": [
    "plt.plot(K, meandistortions, 'bx-')\n",
    "plt.xlabel('k')\n",
    "plt.ylabel('Average Dispersion')\n",
    "plt.title('Selecting k with the Elbow Method')\n",
    "plt.show()"
   ]
  }
 ],
 "metadata": {
  "kernelspec": {
   "display_name": "Python 3 (Spyder)",
   "language": "python3",
   "name": "python3"
  },
  "language_info": {
   "codemirror_mode": {
    "name": "ipython",
    "version": 3
   },
   "file_extension": ".py",
   "mimetype": "text/x-python",
   "name": "python",
   "nbconvert_exporter": "python",
   "pygments_lexer": "ipython3",
   "version": "3.6.4"
  }
 },
 "nbformat": 4,
 "nbformat_minor": 2
}
