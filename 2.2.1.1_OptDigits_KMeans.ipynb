{
 "cells": [
  {
   "cell_type": "code",
   "execution_count": 12,
   "metadata": {},
   "outputs": [],
   "source": [
    "import numpy as np\n",
    "import pandas as pd"
   ]
  },
  {
   "cell_type": "code",
   "execution_count": 3,
   "metadata": {},
   "outputs": [],
   "source": [
    "digits_train = pd.read_csv('d:/Data/Python2Kaggle/optdigits/optdigits.tra', header=None)\n",
    "digits_test = pd.read_csv('d:/Data/Python2Kaggle/optdigits/optdigits.tes', header=None)"
   ]
  },
  {
   "cell_type": "code",
   "execution_count": 5,
   "metadata": {},
   "outputs": [],
   "source": [
    "X_train = digits_train[np.arange(64)]\n",
    "y_train = digits_train[64]\n",
    "X_test = digits_test[np.arange(64)]\n",
    "y_test = digits_test[64]"
   ]
  },
  {
   "cell_type": "code",
   "execution_count": 6,
   "metadata": {},
   "outputs": [],
   "source": [
    "from sklearn.cluster import KMeans"
   ]
  },
  {
   "cell_type": "code",
   "execution_count": 7,
   "metadata": {},
   "outputs": [],
   "source": [
    "kmeans = KMeans(n_clusters=10)"
   ]
  },
  {
   "cell_type": "code",
   "execution_count": 40,
   "metadata": {},
   "outputs": [
    {
     "name": "stdout",
     "output_type": "stream",
     "text": [
      "      0   1   2   3   4   5   6   7   8   9  ...  54  55  56  57  58  59  60  \\\n",
      "0      0   1   6  15  12   1   0   0   0   7 ...   0   0   0   0   6  14   7   \n",
      "1      0   0  10  16   6   0   0   0   0   7 ...   3   0   0   0  10  16  15   \n",
      "2      0   0   8  15  16  13   0   0   0   1 ...   0   0   0   0   9  14   0   \n",
      "3      0   0   0   3  11  16   0   0   0   0 ...   0   0   0   0   0   1  15   \n",
      "4      0   0   5  14   4   0   0   0   0   0 ...  12   0   0   0   4  12  14   \n",
      "5      0   0  11  16  10   1   0   0   0   4 ...   8   3   0   0  10  16  16   \n",
      "6      0   0   1  11  13  11   7   0   0   0 ...   0   0   0   0   1  13   5   \n",
      "7      0   0   8  10   8   7   2   0   0   1 ...   0   0   0   0   4  13   8   \n",
      "8      0   0  15   2  14  13   2   0   0   0 ...   0   0   0   0  10  12   5   \n",
      "9      0   0   3  13  13   2   0   0   0   6 ...  12   0   0   0   3  15  11   \n",
      "10     0   0   6  14  14  16  16   8   0   0 ...   0   0   0   0  10  12   0   \n",
      "11     0   0   0   3  16  11   1   0   0   0 ...   0   0   0   0   0   2  14   \n",
      "12     0   0   0   4  13  16  16   3   0   0 ...   0   0   0   0   0   5  15   \n",
      "13     0   0   7  12   6   2   0   0   0   0 ...   0   0   0   0   5  16   9   \n",
      "14     0   0   7  11  11   6   0   0   0   9 ...  12   0   0   0  14  16  12   \n",
      "15     0   1  10  15   8   0   0   0   0   6 ...   0   0   0   0   9  15   8   \n",
      "16     0   0   0   1  11   7   0   0   0   0 ...   0   0   0   0   0   3  15   \n",
      "17     0   0   5  12  16  16   3   0   0   0 ...   0   0   0   0   8  12   0   \n",
      "18     0   0   1   8  13  13   2   0   0   4 ...   2   0   0   0   1  13  12   \n",
      "19     0   0   0   2  13  12   4   0   0   0 ...   0   0   0   0   0   0  15   \n",
      "20     0   0   4  11  15  16  15   0   0   0 ...   0   0   0   0   6  14   2   \n",
      "21     0   0   4  10  13  11   1   0   0   2 ...   0   0   0   0   6  13  11   \n",
      "22     0   0   3  11  13  14   6   0   0   0 ...   0   0   0   0   3  13  10   \n",
      "23     0   0   1   4  11  13   7   0   0   2 ...   0   0   0   0   0   1  14   \n",
      "24     0   0   9  13   1   0   0   0   0   0 ...   8   5   0   0   4  15  16   \n",
      "25     0   0   9  16  11   0   0   0   0   4 ...  11   1   0   0  10  16   9   \n",
      "26     0   0   2  13   9   0   0   0   0   0 ...   1   0   0   0   3  16  14   \n",
      "27     0   0   0  10  12   0   0   0   0   0 ...  14   0   0   0   1  11  14   \n",
      "28     0   0   0   0  10  13   0   0   0   0 ...   0   0   0   0   0   0   8   \n",
      "29     0   0   7   9  13  11   2   0   0   6 ...   2   0   0   0  13  12   8   \n",
      "...   ..  ..  ..  ..  ..  ..  ..  ..  ..  .. ...  ..  ..  ..  ..  ..  ..  ..   \n",
      "3793   0   0  15  15  16  14   1   0   0   3 ...   0   0   0   0  15  16  12   \n",
      "3794   0   0   2  13  16  15   4   0   0   0 ...   0   0   0   0   3  14   1   \n",
      "3795   0   0  12  16   7   0   0   0   0   2 ...   0   0   0   0  11  16  16   \n",
      "3796   0   0   0   3  13   0   0   0   0   0 ...   0   0   0   0   0   6  12   \n",
      "3797   0   0   0  12   8   0   0   0   0   0 ...   0   0   0   0   0  14   6   \n",
      "3798   0   0   0   9  12   0   0   0   0   0 ...   0   0   0   0   0  10  11   \n",
      "3799   0   0   5  16  13   1   0   0   0   0 ...  12   0   0   1   6  10  12   \n",
      "3800   0   0   6  16   8   0   0   0   0   2 ...  15   0   0   0   7  13  16   \n",
      "3801   0   0   5  16  11   0   0   0   0   1 ...   0   0   0   0   4  14  12   \n",
      "3802   0   1  12  16  14   4   0   0   0   8 ...   8   0   0   0  13  15  15   \n",
      "3803   0   0   3  14  13   3   0   0   0   0 ...   2   0   0   0   3  13  13   \n",
      "3804   0   0  12  16  16  10   1   0   0   0 ...  16   0   0   1  10  16  16   \n",
      "3805   0   0   0   8  11   0   0   0   0   0 ...   0   0   0   0   0   7  12   \n",
      "3806   0   1   9  16  14   6   0   0   0   5 ...   0   0   0   0  11  16   7   \n",
      "3807   0   0   4  14  15   3   0   0   0   0 ...   0   0   0   0   3  14  14   \n",
      "3808   0   2  15  16  15   1   0   0   0   3 ...   7   0   0   0  14  13  16   \n",
      "3809   0   0   5  15  16   6   0   0   0   0 ...  10   0   0   0   5  15  16   \n",
      "3810   0   0   4  16  11   1   0   0   0   0 ...   0   0   0   0   2  12  16   \n",
      "3811   0   0   0   0   7  11   1   0   0   0 ...   0   0   0   0   2   0   7   \n",
      "3812   0   0   0   6  13   0   0   0   0   0 ...   0   0   0   0   0   6   9   \n",
      "3813   0   0   0   6   8   0   0   0   0   0 ...   0   0   0   1   4   9   8   \n",
      "3814   0   0   9  16   6   0   0   0   0   2 ...   0   0   0   0  10  13   1   \n",
      "3815   0   0   9  16  12   1   0   0   0   3 ...  16   0   0   0   8  16  16   \n",
      "3816   0   1  10  16  16   4   0   0   0   8 ...   5   0   0   2  13  16  12   \n",
      "3817   0   0   6  16  11   0   0   0   0   1 ...   4   0   0   1   7  14  16   \n",
      "3818   0   0   5  13  11   2   0   0   0   2 ...  10   0   0   0   8  13  15   \n",
      "3819   0   0   0   1  12   1   0   0   0   0 ...   0   0   0   0   0   4   9   \n",
      "3820   0   0   3  15   0   0   0   0   0   0 ...   4   0   0   0   4  14  16   \n",
      "3821   0   0   6  16   2   0   0   0   0   0 ...  15   0   0   0   5  16  16   \n",
      "3822   0   0   2  15  16  13   1   0   0   0 ...   0   0   0   0   4  14   1   \n",
      "\n",
      "      61  62  63  \n",
      "0      1   0   0  \n",
      "1      3   0   0  \n",
      "2      0   0   0  \n",
      "3      2   0   0  \n",
      "4      7   0   0  \n",
      "5     16  16   6  \n",
      "6      0   0   0  \n",
      "7      0   0   0  \n",
      "8      0   0   0  \n",
      "9      6   0   0  \n",
      "10     0   0   0  \n",
      "11    14   1   0  \n",
      "12     4   0   0  \n",
      "13     0   0   0  \n",
      "14    10   1   0  \n",
      "15     0   0   0  \n",
      "16     0   0   0  \n",
      "17     0   0   0  \n",
      "18     4   0   0  \n",
      "19     3   0   0  \n",
      "20     0   0   0  \n",
      "21     1   0   0  \n",
      "22     0   0   0  \n",
      "23     3   0   0  \n",
      "24    16  16  16  \n",
      "25     9  13   6  \n",
      "26     4   0   0  \n",
      "27    12   1   0  \n",
      "28    15   2   0  \n",
      "29     1   0   0  \n",
      "...   ..  ..  ..  \n",
      "3793   0   0   0  \n",
      "3794   0   0   0  \n",
      "3795  16  16   8  \n",
      "3796   0   0   0  \n",
      "3797   0   0   0  \n",
      "3798   0   0   0  \n",
      "3799  12   2   0  \n",
      "3800  13   9   0  \n",
      "3801   2   0   0  \n",
      "3802  10   2   0  \n",
      "3803   6   0   0  \n",
      "3804  16   7   0  \n",
      "3805   0   0   0  \n",
      "3806   0   0   0  \n",
      "3807   6   0   0  \n",
      "3808  11   1   0  \n",
      "3809  15   1   0  \n",
      "3810  11   1   0  \n",
      "3811  11   0   0  \n",
      "3812   0   0   0  \n",
      "3813   0   0   0  \n",
      "3814   0   0   0  \n",
      "3815  16   8   0  \n",
      "3816   5   0   0  \n",
      "3817  12   1   0  \n",
      "3818  10   1   0  \n",
      "3819   0   0   0  \n",
      "3820   9   0   0  \n",
      "3821  16   5   0  \n",
      "3822   0   0   0  \n",
      "\n",
      "[3823 rows x 64 columns]\n"
     ]
    }
   ],
   "source": [
    "print(X_train)"
   ]
  },
  {
   "cell_type": "code",
   "execution_count": 8,
   "metadata": {},
   "outputs": [
    {
     "data": {
      "text/plain": [
       "KMeans(algorithm='auto', copy_x=True, init='k-means++', max_iter=300,\n",
       "    n_clusters=10, n_init=10, n_jobs=1, precompute_distances='auto',\n",
       "    random_state=None, tol=0.0001, verbose=0)"
      ]
     },
     "execution_count": 8,
     "metadata": {},
     "output_type": "execute_result"
    }
   ],
   "source": [
    "kmeans.fit(X_train)"
   ]
  },
  {
   "cell_type": "code",
   "execution_count": 9,
   "metadata": {},
   "outputs": [],
   "source": [
    "y_pred = kmeans.predict(X_test)"
   ]
  },
  {
   "cell_type": "code",
   "execution_count": 10,
   "metadata": {},
   "outputs": [],
   "source": [
    "from sklearn import metrics"
   ]
  },
  {
   "cell_type": "code",
   "execution_count": 11,
   "metadata": {},
   "outputs": [
    {
     "name": "stdout",
     "output_type": "stream",
     "text": [
      "0.6733818508727982\n"
     ]
    }
   ],
   "source": [
    "print(metrics.adjusted_rand_score(y_test, y_pred))"
   ]
  },
  {
   "cell_type": "code",
   "execution_count": 13,
   "metadata": {},
   "outputs": [],
   "source": [
    "import matplotlib.pyplot as plt\n",
    "from sklearn.metrics import silhouette_score"
   ]
  },
  {
   "cell_type": "code",
   "execution_count": 14,
   "metadata": {},
   "outputs": [
    {
     "data": {
      "text/plain": [
       "<matplotlib.axes._subplots.AxesSubplot at 0xc3a0898>"
      ]
     },
     "execution_count": 14,
     "metadata": {},
     "output_type": "execute_result"
    },
    {
     "data": {
      "image/png": "[encoded data removed]",
      "text/plain": [
       "<matplotlib.figure.Figure at 0x9d3a898>"
      ]
     },
     "metadata": {},
     "output_type": "display_data"
    }
   ],
   "source": [
    "plt.subplot(3,2,1)"
   ]
  },
  {
   "cell_type": "code",
   "execution_count": 46,
   "metadata": {},
   "outputs": [],
   "source": [
    "x1 = np.array([1,2,3,1,5,6,5,5,6,7,8,9,7,9])\n",
    "x2 = np.array([1,3,2,2,8,6,7,6,7,1,2,1,1,3])"
   ]
  },
  {
   "cell_type": "code",
   "execution_count": 47,
   "metadata": {},
   "outputs": [
    {
     "name": "stdout",
     "output_type": "stream",
     "text": [
      "(1, 1)\n",
      "(2, 3)\n",
      "(3, 2)\n",
      "(1, 2)\n",
      "(5, 8)\n",
      "(6, 6)\n",
      "(5, 7)\n",
      "(5, 6)\n",
      "(6, 7)\n",
      "(7, 1)\n",
      "(8, 2)\n",
      "(9, 1)\n",
      "(7, 1)\n",
      "(9, 3)\n"
     ]
    }
   ],
   "source": [
    "X = zip(x1, x2)\n",
    "for i in X:\n",
    "  print(i)"
   ]
  },
  {
   "cell_type": "code",
   "execution_count": 32,
   "metadata": {},
   "outputs": [
    {
     "ename": "ValueError",
     "evalue": "cannot reshape array of size 1 into shape (14,2)",
     "output_type": "error",
     "traceback": [
      "Traceback \u001b[1;36m(most recent call last)\u001b[0m:\n",
      "\u001b[1;36m  File \u001b[1;32m\"<ipython-input-32-ad9999bdec65>\"\u001b[1;36m, line \u001b[1;32m1\u001b[1;36m, in \u001b[1;35m<module>\u001b[1;36m\u001b[0m\n\u001b[1;33m    X = np.array(zip(x1, x2)).reshape(len(x1),2)\u001b[0m\n",
      "\u001b[1;31mValueError\u001b[0m\u001b[1;31m:\u001b[0m cannot reshape array of size 1 into shape (14,2)\n"
     ]
    }
   ],
   "source": [
    "# X = np.array(zip(x1, x2)).reshape(len(x1),2)"
   ]
  },
  {
   "cell_type": "code",
   "execution_count": 36,
   "metadata": {},
   "outputs": [
    {
     "data": {
      "text/plain": [
       "<matplotlib.collections.PathCollection at 0xc787630>"
      ]
     },
     "execution_count": 36,
     "metadata": {},
     "output_type": "execute_result"
    },
    {
     "data": {
      "image/png": "[encoded data removed]",
      "text/plain": [
       "<matplotlib.figure.Figure at 0xc6e08d0>"
      ]
     },
     "metadata": {},
     "output_type": "display_data"
    }
   ],
   "source": [
    "plt.xlim([0,10])\n",
    "plt.ylim([0,10])\n",
    "plt.title('Instances')\n",
    "plt.scatter(x1,x2)"
   ]
  },
  {
   "cell_type": "code",
   "execution_count": 20,
   "metadata": {},
   "outputs": [],
   "source": [
    "colors = ['b', 'g', 'r', 'c', 'm', 'y', 'k', 'b']\n",
    "markers = ['o', 's', 'D', 'v', '^', 'p', '*', '+']"
   ]
  },
  {
   "cell_type": "code",
   "execution_count": 21,
   "metadata": {},
   "outputs": [],
   "source": [
    "clusters = [2,3,4,5,8]"
   ]
  },
  {
   "cell_type": "code",
   "execution_count": 23,
   "metadata": {},
   "outputs": [],
   "source": [
    "subplot_counter = 1\n",
    "sc_scores=[]"
   ]
  },
  {
   "cell_type": "code",
   "execution_count": 39,
   "metadata": {},
   "outputs": [
    {
     "ename": "TypeError",
     "evalue": "float() argument must be a string or a number, not 'zip'",
     "output_type": "error",
     "traceback": [
      "Traceback \u001b[1;36m(most recent call last)\u001b[0m:\n",
      "  File \u001b[0;32m\"<ipython-input-39-bce20de6bc5e>\"\u001b[0m, line \u001b[0;32m4\u001b[0m, in \u001b[0;35m<module>\u001b[0m\n    kmeans_model = KMeans(n_clusters=t).fit(X)\n",
      "  File \u001b[0;32m\"C:\\Anaconda3\\lib\\site-packages\\sklearn\\cluster\\k_means_.py\"\u001b[0m, line \u001b[0;32m887\u001b[0m, in \u001b[0;35mfit\u001b[0m\n    X = self._check_fit_data(X)\n",
      "  File \u001b[0;32m\"C:\\Anaconda3\\lib\\site-packages\\sklearn\\cluster\\k_means_.py\"\u001b[0m, line \u001b[0;32m858\u001b[0m, in \u001b[0;35m_check_fit_data\u001b[0m\n    X = check_array(X, accept_sparse='csr', dtype=[np.float64, np.float32])\n",
      "\u001b[1;36m  File \u001b[1;32m\"C:\\Anaconda3\\lib\\site-packages\\sklearn\\utils\\validation.py\"\u001b[1;36m, line \u001b[1;32m433\u001b[1;36m, in \u001b[1;35mcheck_array\u001b[1;36m\u001b[0m\n\u001b[1;33m    array = np.array(array, dtype=dtype, order=order, copy=copy)\u001b[0m\n",
      "\u001b[1;31mTypeError\u001b[0m\u001b[1;31m:\u001b[0m float() argument must be a string or a number, not 'zip'\n"
     ]
    },
    {
     "data": {
      "image/png": "[encoded data removed]",
      "text/plain": [
       "<matplotlib.figure.Figure at 0xc7f7470>"
      ]
     },
     "metadata": {},
     "output_type": "display_data"
    }
   ],
   "source": [
    "for t in clusters:\n",
    "  subplot_counter += 1\n",
    "  plt.subplot(3,2,subplot_counter)\n",
    "  kmeans_model = KMeans(n_clusters=t).fit(X)\n",
    "  for i,l in enumerate(kmeans_model.labels_):\n",
    "    plt.plot(x1[i], x2[i], color=colors[l], marker=markers[l], ls='None')\n",
    "    plt.xlim([0,10])\n",
    "    plt.ylim([0,10])\n",
    "    sc_score = silhouette_score(X, kmeans_model.labels_, metric='euclidean')\n",
    "    sc_scores.append(sc_score)"
   ]
  },
  {
   "cell_type": "code",
   "execution_count": 25,
   "metadata": {},
   "outputs": [
    {
     "ename": "NameError",
     "evalue": "name 'sc_score' is not defined",
     "output_type": "error",
     "traceback": [
      "Traceback \u001b[1;36m(most recent call last)\u001b[0m:\n",
      "\u001b[1;36m  File \u001b[1;32m\"<ipython-input-25-aa820590616c>\"\u001b[1;36m, line \u001b[1;32m1\u001b[1;36m, in \u001b[1;35m<module>\u001b[1;36m\u001b[0m\n\u001b[1;33m    plt.title('K=%s, silhouette coeffient=%0.03f' %(t, sc_score))\u001b[0m\n",
      "\u001b[1;31mNameError\u001b[0m\u001b[1;31m:\u001b[0m name 'sc_score' is not defined\n"
     ]
    }
   ],
   "source": [
    "plt.title('K=%s, silhouette coeffient=%0.03f' %(t, sc_score))"
   ]
  },
  {
   "cell_type": "code",
   "execution_count": 26,
   "metadata": {},
   "outputs": [
    {
     "data": {
      "text/plain": [
       "<matplotlib.figure.Figure at 0xc502c88>"
      ]
     },
     "execution_count": 26,
     "metadata": {},
     "output_type": "execute_result"
    },
    {
     "data": {
      "text/plain": [
       "<matplotlib.figure.Figure at 0xc502c88>"
      ]
     },
     "metadata": {},
     "output_type": "display_data"
    }
   ],
   "source": [
    "plt.figure()"
   ]
  },
  {
   "cell_type": "code",
   "execution_count": 37,
   "metadata": {},
   "outputs": [
    {
     "ename": "ValueError",
     "evalue": "x and y must have same first dimension, but have shapes (5,) and (0,)",
     "output_type": "error",
     "traceback": [
      "Traceback \u001b[1;36m(most recent call last)\u001b[0m:\n",
      "  File \u001b[0;32m\"<ipython-input-37-eac727080e74>\"\u001b[0m, line \u001b[0;32m1\u001b[0m, in \u001b[0;35m<module>\u001b[0m\n    plt.plot(clusters, sc_scores, '*-')\n",
      "  File \u001b[0;32m\"C:\\Anaconda3\\lib\\site-packages\\matplotlib\\pyplot.py\"\u001b[0m, line \u001b[0;32m3261\u001b[0m, in \u001b[0;35mplot\u001b[0m\n    ret = ax.plot(*args, **kwargs)\n",
      "  File \u001b[0;32m\"C:\\Anaconda3\\lib\\site-packages\\matplotlib\\__init__.py\"\u001b[0m, line \u001b[0;32m1717\u001b[0m, in \u001b[0;35minner\u001b[0m\n    return func(ax, *args, **kwargs)\n",
      "  File \u001b[0;32m\"C:\\Anaconda3\\lib\\site-packages\\matplotlib\\axes\\_axes.py\"\u001b[0m, line \u001b[0;32m1372\u001b[0m, in \u001b[0;35mplot\u001b[0m\n    for line in self._get_lines(*args, **kwargs):\n",
      "  File \u001b[0;32m\"C:\\Anaconda3\\lib\\site-packages\\matplotlib\\axes\\_base.py\"\u001b[0m, line \u001b[0;32m404\u001b[0m, in \u001b[0;35m_grab_next_args\u001b[0m\n    for seg in self._plot_args(this, kwargs):\n",
      "  File \u001b[0;32m\"C:\\Anaconda3\\lib\\site-packages\\matplotlib\\axes\\_base.py\"\u001b[0m, line \u001b[0;32m384\u001b[0m, in \u001b[0;35m_plot_args\u001b[0m\n    x, y = self._xy_from_xy(x, y)\n",
      "\u001b[1;36m  File \u001b[1;32m\"C:\\Anaconda3\\lib\\site-packages\\matplotlib\\axes\\_base.py\"\u001b[1;36m, line \u001b[1;32m243\u001b[1;36m, in \u001b[1;35m_xy_from_xy\u001b[1;36m\u001b[0m\n\u001b[1;33m    \"have shapes {} and {}\".format(x.shape, y.shape))\u001b[0m\n",
      "\u001b[1;31mValueError\u001b[0m\u001b[1;31m:\u001b[0m x and y must have same first dimension, but have shapes (5,) and (0,)\n"
     ]
    },
    {
     "data": {
      "image/png": "[encoded data removed]",
      "text/plain": [
       "<matplotlib.figure.Figure at 0xc76a3c8>"
      ]
     },
     "metadata": {},
     "output_type": "display_data"
    }
   ],
   "source": [
    "plt.plot(clusters, sc_scores, '*-')\n",
    "plt.xlabel('Number of Clusters')\n",
    "plt.ylabel('Silhouette Coeffient Score')\n",
    "plt.show()"
   ]
  },
  {
   "cell_type": "code",
   "execution_count": null,
   "metadata": {},
   "outputs": [],
   "source": []
  }
 ],
 "metadata": {
  "kernelspec": {
   "display_name": "Python 3 (Spyder)",
   "language": "python3",
   "name": "python3"
  },
  "language_info": {
   "codemirror_mode": {
    "name": "ipython",
    "version": 3
   },
   "file_extension": ".py",
   "mimetype": "text/x-python",
   "name": "python",
   "nbconvert_exporter": "python",
   "pygments_lexer": "ipython3",
   "version": "3.6.4"
  }
 },
 "nbformat": 4,
 "nbformat_minor": 2
}
