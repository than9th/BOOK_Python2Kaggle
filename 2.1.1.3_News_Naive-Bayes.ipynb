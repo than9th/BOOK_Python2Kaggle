{
 "cells": [
  {
   "cell_type": "code",
   "execution_count": 2,
   "metadata": {},
   "outputs": [],
   "source": [
    "from sklearn.datasets import fetch_20newsgroups"
   ]
  },
  {
   "cell_type": "code",
   "execution_count": 3,
   "metadata": {},
   "outputs": [],
   "source": [
    "import numpy as np"
   ]
  },
  {
   "cell_type": "code",
   "execution_count": 9,
   "metadata": {},
   "outputs": [],
   "source": [
    "news = fetch_20newsgroups(data_home='d:/Data/Python2Kaggle/20news_home/', subset='all')"
   ]
  },
  {
   "cell_type": "code",
   "execution_count": 12,
   "metadata": {},
   "outputs": [
    {
     "name": "stdout",
     "output_type": "stream",
     "text": [
      "18846\n"
     ]
    }
   ],
   "source": [
    "print(len(news.data))"
   ]
  },
  {
   "cell_type": "code",
   "execution_count": 13,
   "metadata": {},
   "outputs": [
    {
     "name": "stdout",
     "output_type": "stream",
     "text": [
      "From: Mamatha Devineni Ratnam <mr47+@andrew.cmu.edu>\n",
      "Subject: Pens fans reactions\n",
      "Organization: Post Office, Carnegie Mellon, Pittsburgh, PA\n",
      "Lines: 12\n",
      "NNTP-Posting-Host: po4.andrew.cmu.edu\n",
      "\n",
      "\n",
      "\n",
      "I am sure some bashers of Pens fans are pretty confused about the lack\n",
      "of any kind of posts about the recent Pens massacre of the Devils. Actually,\n",
      "I am  bit puzzled too and a bit relieved. However, I am going to put an end\n",
      "to non-PIttsburghers' relief with a bit of praise for the Pens. Man, they\n",
      "are killing those Devils worse than I thought. Jagr just showed you why\n",
      "he is much better than his regular season stats. He is also a lot\n",
      "fo fun to watch in the playoffs. Bowman should let JAgr have a lot of\n",
      "fun in the next couple of games since the Pens are going to beat the pulp out of Jersey anyway. I was very disappointed not to see the Islanders lose the final\n",
      "regular season game.          PENS RULE!!!\n",
      "\n",
      "\n"
     ]
    }
   ],
   "source": [
    "print(news.data[0])"
   ]
  },
  {
   "cell_type": "code",
   "execution_count": 14,
   "metadata": {},
   "outputs": [],
   "source": [
    "from sklearn.cross_validation import train_test_split"
   ]
  },
  {
   "cell_type": "code",
   "execution_count": 48,
   "metadata": {},
   "outputs": [],
   "source": [
    "X_train, X_test, y_train, y_test = train_test_split(news.data, news.target,\\\n",
    "                                                    test_size = 0.25, random_state=33)"
   ]
  },
  {
   "cell_type": "code",
   "execution_count": 49,
   "metadata": {},
   "outputs": [
    {
     "name": "stdout",
     "output_type": "stream",
     "text": [
      "From: scotts@math.orst.edu (Scott Settlemier)\n",
      "Subject: FORSALE: MAG Innovision MX15F 1280x1024\n",
      "Article-I.D.: gaia.1r7hir$9sk\n",
      "Distribution: world\n",
      "Organization: Oregon State University Math Department\n",
      "Lines: 7\n",
      "NNTP-Posting-Host: math.orst.edu\n",
      "\n",
      "MAG Innovision MX15F\n",
      "Fantastic 15\" multiscan monitor that can display up to\n",
      "1280x1024 noninterlaced (!) with .26 mm dot pitch.\n",
      "If you are looking for a large crystal clear super vga\n",
      "monitor then this is for you.\n",
      "$430   call Scott at (503) 757-3483 or\n",
      "email scotts@math.orst.edu\n",
      "\n",
      "6\n",
      "From: tony@morgan.demon.co.uk (Tony Kidson)\n",
      "Subject: Re: Maxima Chain wax \n",
      "Distribution: world\n",
      "Organization: The Modem Palace\n",
      "Reply-To: tony@morgan.demon.co.uk\n",
      "X-Newsreader: Simple NEWS 1.90 (ka9q DIS 1.21)\n",
      "Lines: 31\n",
      "\n",
      "In article <1r3tm4$itu@news.ysu.edu> ak296@yfn.ysu.edu writes:\n",
      "\n",
      ">\n",
      ">In a previous article, txd@ESD.3Com.COM (Tom Dietrich) says:\n",
      ">\n",
      ">>parr@acs.ucalgary.ca (Charles Parr) writes:\n",
      ">>\n",
      ">>>I bought it, I tried it:\n",
      ">>\n",
      ">>>It is, truly, the miracle spooge.\n",
      ">>\n",
      ">>>My chain is lubed, my wheel is clean, after 1000km.\n",
      ">\n",
      ">I too have seen the miracle of Maxima Chain Wax.  Not only does it lube\n",
      ">and stay where it's supposed to, but I swear I can ride faster now.  Yes,\n",
      ">not only does it lube your chain, it makes you a better rider.  And more\n",
      ">attractive to members of the opposing sex.  And smarter.  And....\n",
      "\n",
      "Works really well on my 'bike too.\n",
      "\n",
      "\n",
      "Tony\n",
      "\n",
      "\n",
      "+---------------+------------------------------+-------------------------+\n",
      "|Tony Kidson    | ** PGP 2.2 Key by request ** |Voice +44 81 466 5127    |\n",
      "|Morgan Towers, |  The Cat has had to move now |E-Mail(in order)         |\n",
      "|Morgan Road,   |  as I've had to take the top |tony@morgan.demon.co.uk  |\n",
      "|Bromley,       |  off of the machine.         |tny@cix.compulink.co.uk  |\n",
      "|England BR1 3QE|Honda ST1100 -=<*>=- DoD# 0801|100024.301@compuserve.com|\n",
      "+---------------+------------------------------+-------------------------+\n",
      "\n"
     ]
    }
   ],
   "source": [
    "print(X_train[0])\n",
    "print(y_train[0])\n",
    "print(X_test[0])"
   ]
  },
  {
   "cell_type": "code",
   "execution_count": 50,
   "metadata": {},
   "outputs": [],
   "source": [
    "from sklearn.feature_extraction.text import CountVectorizer\n",
    "\n",
    "vec = CountVectorizer()\n",
    "\n",
    "X_train = vec.fit_transform(X_train)\n",
    "\n",
    "X_test = vec.transform(X_test)"
   ]
  },
  {
   "cell_type": "code",
   "execution_count": 51,
   "metadata": {},
   "outputs": [
    {
     "name": "stdout",
     "output_type": "stream",
     "text": [
      "<class 'scipy.sparse.csr.csr_matrix'>\n",
      "6\n"
     ]
    }
   ],
   "source": [
    "# print(X_train[0])\n",
    "print(type(X_train))\n",
    "print(y_train[0])"
   ]
  },
  {
   "cell_type": "code",
   "execution_count": 52,
   "metadata": {},
   "outputs": [
    {
     "name": "stdout",
     "output_type": "stream",
     "text": [
      "  (0, 1614)\t1\n",
      "  (0, 2908)\t1\n",
      "  (0, 2944)\t1\n",
      "  (0, 10386)\t1\n",
      "  (0, 13816)\t1\n",
      "  (0, 13958)\t1\n",
      "  (0, 15219)\t1\n",
      "  (0, 15733)\t1\n",
      "  (0, 16406)\t1\n",
      "  (0, 16646)\t1\n",
      "  (0, 18063)\t1\n",
      "  (0, 24181)\t1\n",
      "  (0, 25777)\t1\n",
      "  (0, 31012)\t1\n",
      "  (0, 31794)\t1\n",
      "  (0, 32385)\t1\n",
      "  (0, 33514)\t4\n",
      "  (0, 35136)\t2\n",
      "  (0, 35206)\t1\n",
      "  (0, 35905)\t1\n",
      "  (0, 39003)\t1\n",
      "  (0, 39386)\t1\n",
      "  (0, 40835)\t1\n",
      "  (0, 41042)\t1\n",
      "  (0, 41509)\t1\n",
      "  :\t:\n",
      "  (0, 133800)\t5\n",
      "  (0, 133921)\t1\n",
      "  (0, 134009)\t6\n",
      "  (0, 134018)\t2\n",
      "  (0, 134054)\t1\n",
      "  (0, 134297)\t1\n",
      "  (0, 134967)\t1\n",
      "  (0, 135188)\t1\n",
      "  (0, 135878)\t1\n",
      "  (0, 136561)\t1\n",
      "  (0, 136970)\t4\n",
      "  (0, 140121)\t1\n",
      "  (0, 141314)\t1\n",
      "  (0, 142914)\t2\n",
      "  (0, 143312)\t1\n",
      "  (0, 143591)\t1\n",
      "  (0, 143615)\t1\n",
      "  (0, 144773)\t1\n",
      "  (0, 144786)\t1\n",
      "  (0, 145023)\t2\n",
      "  (0, 148238)\t1\n",
      "  (0, 148292)\t1\n",
      "  (0, 148646)\t1\n",
      "  (0, 148670)\t1\n",
      "  (0, 148815)\t2\n"
     ]
    }
   ],
   "source": [
    "print(X_test[0])"
   ]
  },
  {
   "cell_type": "code",
   "execution_count": 55,
   "metadata": {},
   "outputs": [],
   "source": [
    "from sklearn.naive_bayes import MultinomialNB\n",
    "\n",
    "mnb = MultinomialNB()\n",
    "\n",
    "mnb.fit(X_train, y_train)\n",
    "\n",
    "y_pred = mnb.predict(X_test)"
   ]
  },
  {
   "cell_type": "code",
   "execution_count": 56,
   "metadata": {},
   "outputs": [],
   "source": [
    "from sklearn.metrics import classification_report"
   ]
  },
  {
   "cell_type": "code",
   "execution_count": 57,
   "metadata": {},
   "outputs": [
    {
     "name": "stdout",
     "output_type": "stream",
     "text": [
      "The accuracy of Naive Bayes Classfifier is 0.8397707979626485\n"
     ]
    }
   ],
   "source": [
    "print('The accuracy of Naive Bayes Classfifier is', mnb.score(X_test, y_test))"
   ]
  },
  {
   "cell_type": "code",
   "execution_count": 63,
   "metadata": {},
   "outputs": [
    {
     "name": "stdout",
     "output_type": "stream",
     "text": [
      "                          precision    recall  f1-score   support\n",
      "\n",
      "             alt.atheism       0.86      0.86      0.86       201\n",
      "           comp.graphics       0.59      0.86      0.70       250\n",
      " comp.os.ms-windows.misc       0.89      0.10      0.17       248\n",
      "comp.sys.ibm.pc.hardware       0.60      0.88      0.72       240\n",
      "   comp.sys.mac.hardware       0.93      0.78      0.85       242\n",
      "          comp.windows.x       0.82      0.84      0.83       263\n",
      "            misc.forsale       0.91      0.70      0.79       257\n",
      "               rec.autos       0.89      0.89      0.89       238\n",
      "         rec.motorcycles       0.98      0.92      0.95       276\n",
      "      rec.sport.baseball       0.98      0.91      0.95       251\n",
      "        rec.sport.hockey       0.93      0.99      0.96       233\n",
      "               sci.crypt       0.86      0.98      0.91       238\n",
      "         sci.electronics       0.85      0.88      0.86       249\n",
      "                 sci.med       0.92      0.94      0.93       245\n",
      "               sci.space       0.89      0.96      0.92       221\n",
      "  soc.religion.christian       0.78      0.96      0.86       232\n",
      "      talk.politics.guns       0.88      0.96      0.92       251\n",
      "   talk.politics.mideast       0.90      0.98      0.94       231\n",
      "      talk.politics.misc       0.79      0.89      0.84       188\n",
      "      talk.religion.misc       0.93      0.44      0.60       158\n",
      "\n",
      "             avg / total       0.86      0.84      0.82      4712\n",
      "\n"
     ]
    }
   ],
   "source": [
    "print(classification_report(y_test, y_pred, target_names=news.target_names))"
   ]
  },
  {
   "cell_type": "code",
   "execution_count": null,
   "metadata": {},
   "outputs": [],
   "source": []
  }
 ],
 "metadata": {
  "kernelspec": {
   "display_name": "Python 3",
   "language": "python",
   "name": "python3"
  },
  "language_info": {
   "codemirror_mode": {
    "name": "ipython",
    "version": 3
   },
   "file_extension": ".py",
   "mimetype": "text/x-python",
   "name": "python",
   "nbconvert_exporter": "python",
   "pygments_lexer": "ipython3",
   "version": "3.6.4"
  }
 },
 "nbformat": 4,
 "nbformat_minor": 2
}
