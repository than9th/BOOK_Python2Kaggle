{
 "cells": [
  {
   "cell_type": "code",
   "execution_count": 4,
   "metadata": {},
   "outputs": [],
   "source": [
    "# import pandas and numpy packages\n",
    "import pandas as pd\n",
    "import numpy as np\n",
    "\n",
    "# Creat features list\n",
    "column_names=['Sample code number', 'Clump Thickness', 'Uniformity of Cell Size', 'Uniformity of Cell Shape', 'Marginal Adhesion', 'Single Epithelial Cell Size', 'Bare Nuclei', 'Bland Chromatin', 'Normal Nucleoli', 'Mitoses', 'Class']"
   ]
  },
  {
   "cell_type": "code",
   "execution_count": 5,
   "metadata": {},
   "outputs": [],
   "source": [
    "# Import data from internet\n",
    "data = pd.read_csv('https://archive.ics.uci.edu/ml/machine-learning-databases/breast-cancer-wisconsin/breast-cancer-wisconsin.data', names=column_names)"
   ]
  },
  {
   "cell_type": "code",
   "execution_count": 6,
   "metadata": {},
   "outputs": [
    {
     "data": {
      "text/html": [
       "<div>\n",
       "<style scoped>\n",
       "    .dataframe tbody tr th:only-of-type {\n",
       "        vertical-align: middle;\n",
       "    }\n",
       "\n",
       "    .dataframe tbody tr th {\n",
       "        vertical-align: top;\n",
       "    }\n",
       "\n",
       "    .dataframe thead th {\n",
       "        text-align: right;\n",
       "    }\n",
       "</style>\n",
       "<table border=\"1\" class=\"dataframe\">\n",
       "  <thead>\n",
       "    <tr style=\"text-align: right;\">\n",
       "      <th></th>\n",
       "      <th>Sample code number</th>\n",
       "      <th>Clump Thickness</th>\n",
       "      <th>Uniformity of Cell Size</th>\n",
       "      <th>Uniformity of Cell Shape</th>\n",
       "      <th>Marginal Adhesion</th>\n",
       "      <th>Single Epithelial Cell Size</th>\n",
       "      <th>Bland Chromatin</th>\n",
       "      <th>Normal Nucleoli</th>\n",
       "      <th>Mitoses</th>\n",
       "      <th>Class</th>\n",
       "    </tr>\n",
       "  </thead>\n",
       "  <tbody>\n",
       "    <tr>\n",
       "      <th>count</th>\n",
       "      <td>6.990000e+02</td>\n",
       "      <td>699.000000</td>\n",
       "      <td>699.000000</td>\n",
       "      <td>699.000000</td>\n",
       "      <td>699.000000</td>\n",
       "      <td>699.000000</td>\n",
       "      <td>699.000000</td>\n",
       "      <td>699.000000</td>\n",
       "      <td>699.000000</td>\n",
       "      <td>699.000000</td>\n",
       "    </tr>\n",
       "    <tr>\n",
       "      <th>mean</th>\n",
       "      <td>1.071704e+06</td>\n",
       "      <td>4.417740</td>\n",
       "      <td>3.134478</td>\n",
       "      <td>3.207439</td>\n",
       "      <td>2.806867</td>\n",
       "      <td>3.216023</td>\n",
       "      <td>3.437768</td>\n",
       "      <td>2.866953</td>\n",
       "      <td>1.589413</td>\n",
       "      <td>2.689557</td>\n",
       "    </tr>\n",
       "    <tr>\n",
       "      <th>std</th>\n",
       "      <td>6.170957e+05</td>\n",
       "      <td>2.815741</td>\n",
       "      <td>3.051459</td>\n",
       "      <td>2.971913</td>\n",
       "      <td>2.855379</td>\n",
       "      <td>2.214300</td>\n",
       "      <td>2.438364</td>\n",
       "      <td>3.053634</td>\n",
       "      <td>1.715078</td>\n",
       "      <td>0.951273</td>\n",
       "    </tr>\n",
       "    <tr>\n",
       "      <th>min</th>\n",
       "      <td>6.163400e+04</td>\n",
       "      <td>1.000000</td>\n",
       "      <td>1.000000</td>\n",
       "      <td>1.000000</td>\n",
       "      <td>1.000000</td>\n",
       "      <td>1.000000</td>\n",
       "      <td>1.000000</td>\n",
       "      <td>1.000000</td>\n",
       "      <td>1.000000</td>\n",
       "      <td>2.000000</td>\n",
       "    </tr>\n",
       "    <tr>\n",
       "      <th>25%</th>\n",
       "      <td>8.706885e+05</td>\n",
       "      <td>2.000000</td>\n",
       "      <td>1.000000</td>\n",
       "      <td>1.000000</td>\n",
       "      <td>1.000000</td>\n",
       "      <td>2.000000</td>\n",
       "      <td>2.000000</td>\n",
       "      <td>1.000000</td>\n",
       "      <td>1.000000</td>\n",
       "      <td>2.000000</td>\n",
       "    </tr>\n",
       "    <tr>\n",
       "      <th>50%</th>\n",
       "      <td>1.171710e+06</td>\n",
       "      <td>4.000000</td>\n",
       "      <td>1.000000</td>\n",
       "      <td>1.000000</td>\n",
       "      <td>1.000000</td>\n",
       "      <td>2.000000</td>\n",
       "      <td>3.000000</td>\n",
       "      <td>1.000000</td>\n",
       "      <td>1.000000</td>\n",
       "      <td>2.000000</td>\n",
       "    </tr>\n",
       "    <tr>\n",
       "      <th>75%</th>\n",
       "      <td>1.238298e+06</td>\n",
       "      <td>6.000000</td>\n",
       "      <td>5.000000</td>\n",
       "      <td>5.000000</td>\n",
       "      <td>4.000000</td>\n",
       "      <td>4.000000</td>\n",
       "      <td>5.000000</td>\n",
       "      <td>4.000000</td>\n",
       "      <td>1.000000</td>\n",
       "      <td>4.000000</td>\n",
       "    </tr>\n",
       "    <tr>\n",
       "      <th>max</th>\n",
       "      <td>1.345435e+07</td>\n",
       "      <td>10.000000</td>\n",
       "      <td>10.000000</td>\n",
       "      <td>10.000000</td>\n",
       "      <td>10.000000</td>\n",
       "      <td>10.000000</td>\n",
       "      <td>10.000000</td>\n",
       "      <td>10.000000</td>\n",
       "      <td>10.000000</td>\n",
       "      <td>4.000000</td>\n",
       "    </tr>\n",
       "  </tbody>\n",
       "</table>\n",
       "</div>"
      ],
      "text/plain": [
       "       Sample code number  Clump Thickness  Uniformity of Cell Size  \\\n",
       "count        6.990000e+02       699.000000               699.000000   \n",
       "mean         1.071704e+06         4.417740                 3.134478   \n",
       "std          6.170957e+05         2.815741                 3.051459   \n",
       "min          6.163400e+04         1.000000                 1.000000   \n",
       "25%          8.706885e+05         2.000000                 1.000000   \n",
       "50%          1.171710e+06         4.000000                 1.000000   \n",
       "75%          1.238298e+06         6.000000                 5.000000   \n",
       "max          1.345435e+07        10.000000                10.000000   \n",
       "\n",
       "       Uniformity of Cell Shape  Marginal Adhesion  \\\n",
       "count                699.000000         699.000000   \n",
       "mean                   3.207439           2.806867   \n",
       "std                    2.971913           2.855379   \n",
       "min                    1.000000           1.000000   \n",
       "25%                    1.000000           1.000000   \n",
       "50%                    1.000000           1.000000   \n",
       "75%                    5.000000           4.000000   \n",
       "max                   10.000000          10.000000   \n",
       "\n",
       "       Single Epithelial Cell Size  Bland Chromatin  Normal Nucleoli  \\\n",
       "count                   699.000000       699.000000       699.000000   \n",
       "mean                      3.216023         3.437768         2.866953   \n",
       "std                       2.214300         2.438364         3.053634   \n",
       "min                       1.000000         1.000000         1.000000   \n",
       "25%                       2.000000         2.000000         1.000000   \n",
       "50%                       2.000000         3.000000         1.000000   \n",
       "75%                       4.000000         5.000000         4.000000   \n",
       "max                      10.000000        10.000000        10.000000   \n",
       "\n",
       "          Mitoses       Class  \n",
       "count  699.000000  699.000000  \n",
       "mean     1.589413    2.689557  \n",
       "std      1.715078    0.951273  \n",
       "min      1.000000    2.000000  \n",
       "25%      1.000000    2.000000  \n",
       "50%      1.000000    2.000000  \n",
       "75%      1.000000    4.000000  \n",
       "max     10.000000    4.000000  "
      ]
     },
     "execution_count": 6,
     "metadata": {},
     "output_type": "execute_result"
    }
   ],
   "source": [
    "data.describe()"
   ]
  },
  {
   "cell_type": "code",
   "execution_count": 7,
   "metadata": {},
   "outputs": [
    {
     "data": {
      "text/plain": [
       "Sample code number             699\n",
       "Clump Thickness                699\n",
       "Uniformity of Cell Size        699\n",
       "Uniformity of Cell Shape       699\n",
       "Marginal Adhesion              699\n",
       "Single Epithelial Cell Size    699\n",
       "Bare Nuclei                    699\n",
       "Bland Chromatin                699\n",
       "Normal Nucleoli                699\n",
       "Mitoses                        699\n",
       "Class                          699\n",
       "dtype: int64"
      ]
     },
     "execution_count": 7,
     "metadata": {},
     "output_type": "execute_result"
    }
   ],
   "source": [
    "data.count()"
   ]
  },
  {
   "cell_type": "code",
   "execution_count": 8,
   "metadata": {},
   "outputs": [],
   "source": [
    "# Replace missing data with '?'\n",
    "data = data.replace(to_replace='?', value=np.nan)\n",
    "\n",
    "# Discard items with missing data\n",
    "data = data.dropna(how='any')"
   ]
  },
  {
   "cell_type": "code",
   "execution_count": 9,
   "metadata": {},
   "outputs": [
    {
     "data": {
      "text/html": [
       "<div>\n",
       "<style scoped>\n",
       "    .dataframe tbody tr th:only-of-type {\n",
       "        vertical-align: middle;\n",
       "    }\n",
       "\n",
       "    .dataframe tbody tr th {\n",
       "        vertical-align: top;\n",
       "    }\n",
       "\n",
       "    .dataframe thead th {\n",
       "        text-align: right;\n",
       "    }\n",
       "</style>\n",
       "<table border=\"1\" class=\"dataframe\">\n",
       "  <thead>\n",
       "    <tr style=\"text-align: right;\">\n",
       "      <th></th>\n",
       "      <th>Sample code number</th>\n",
       "      <th>Clump Thickness</th>\n",
       "      <th>Uniformity of Cell Size</th>\n",
       "      <th>Uniformity of Cell Shape</th>\n",
       "      <th>Marginal Adhesion</th>\n",
       "      <th>Single Epithelial Cell Size</th>\n",
       "      <th>Bland Chromatin</th>\n",
       "      <th>Normal Nucleoli</th>\n",
       "      <th>Mitoses</th>\n",
       "      <th>Class</th>\n",
       "    </tr>\n",
       "  </thead>\n",
       "  <tbody>\n",
       "    <tr>\n",
       "      <th>count</th>\n",
       "      <td>6.830000e+02</td>\n",
       "      <td>683.000000</td>\n",
       "      <td>683.000000</td>\n",
       "      <td>683.000000</td>\n",
       "      <td>683.000000</td>\n",
       "      <td>683.000000</td>\n",
       "      <td>683.000000</td>\n",
       "      <td>683.000000</td>\n",
       "      <td>683.000000</td>\n",
       "      <td>683.000000</td>\n",
       "    </tr>\n",
       "    <tr>\n",
       "      <th>mean</th>\n",
       "      <td>1.076720e+06</td>\n",
       "      <td>4.442167</td>\n",
       "      <td>3.150805</td>\n",
       "      <td>3.215227</td>\n",
       "      <td>2.830161</td>\n",
       "      <td>3.234261</td>\n",
       "      <td>3.445095</td>\n",
       "      <td>2.869693</td>\n",
       "      <td>1.603221</td>\n",
       "      <td>2.699854</td>\n",
       "    </tr>\n",
       "    <tr>\n",
       "      <th>std</th>\n",
       "      <td>6.206440e+05</td>\n",
       "      <td>2.820761</td>\n",
       "      <td>3.065145</td>\n",
       "      <td>2.988581</td>\n",
       "      <td>2.864562</td>\n",
       "      <td>2.223085</td>\n",
       "      <td>2.449697</td>\n",
       "      <td>3.052666</td>\n",
       "      <td>1.732674</td>\n",
       "      <td>0.954592</td>\n",
       "    </tr>\n",
       "    <tr>\n",
       "      <th>min</th>\n",
       "      <td>6.337500e+04</td>\n",
       "      <td>1.000000</td>\n",
       "      <td>1.000000</td>\n",
       "      <td>1.000000</td>\n",
       "      <td>1.000000</td>\n",
       "      <td>1.000000</td>\n",
       "      <td>1.000000</td>\n",
       "      <td>1.000000</td>\n",
       "      <td>1.000000</td>\n",
       "      <td>2.000000</td>\n",
       "    </tr>\n",
       "    <tr>\n",
       "      <th>25%</th>\n",
       "      <td>8.776170e+05</td>\n",
       "      <td>2.000000</td>\n",
       "      <td>1.000000</td>\n",
       "      <td>1.000000</td>\n",
       "      <td>1.000000</td>\n",
       "      <td>2.000000</td>\n",
       "      <td>2.000000</td>\n",
       "      <td>1.000000</td>\n",
       "      <td>1.000000</td>\n",
       "      <td>2.000000</td>\n",
       "    </tr>\n",
       "    <tr>\n",
       "      <th>50%</th>\n",
       "      <td>1.171795e+06</td>\n",
       "      <td>4.000000</td>\n",
       "      <td>1.000000</td>\n",
       "      <td>1.000000</td>\n",
       "      <td>1.000000</td>\n",
       "      <td>2.000000</td>\n",
       "      <td>3.000000</td>\n",
       "      <td>1.000000</td>\n",
       "      <td>1.000000</td>\n",
       "      <td>2.000000</td>\n",
       "    </tr>\n",
       "    <tr>\n",
       "      <th>75%</th>\n",
       "      <td>1.238705e+06</td>\n",
       "      <td>6.000000</td>\n",
       "      <td>5.000000</td>\n",
       "      <td>5.000000</td>\n",
       "      <td>4.000000</td>\n",
       "      <td>4.000000</td>\n",
       "      <td>5.000000</td>\n",
       "      <td>4.000000</td>\n",
       "      <td>1.000000</td>\n",
       "      <td>4.000000</td>\n",
       "    </tr>\n",
       "    <tr>\n",
       "      <th>max</th>\n",
       "      <td>1.345435e+07</td>\n",
       "      <td>10.000000</td>\n",
       "      <td>10.000000</td>\n",
       "      <td>10.000000</td>\n",
       "      <td>10.000000</td>\n",
       "      <td>10.000000</td>\n",
       "      <td>10.000000</td>\n",
       "      <td>10.000000</td>\n",
       "      <td>10.000000</td>\n",
       "      <td>4.000000</td>\n",
       "    </tr>\n",
       "  </tbody>\n",
       "</table>\n",
       "</div>"
      ],
      "text/plain": [
       "       Sample code number  Clump Thickness  Uniformity of Cell Size  \\\n",
       "count        6.830000e+02       683.000000               683.000000   \n",
       "mean         1.076720e+06         4.442167                 3.150805   \n",
       "std          6.206440e+05         2.820761                 3.065145   \n",
       "min          6.337500e+04         1.000000                 1.000000   \n",
       "25%          8.776170e+05         2.000000                 1.000000   \n",
       "50%          1.171795e+06         4.000000                 1.000000   \n",
       "75%          1.238705e+06         6.000000                 5.000000   \n",
       "max          1.345435e+07        10.000000                10.000000   \n",
       "\n",
       "       Uniformity of Cell Shape  Marginal Adhesion  \\\n",
       "count                683.000000         683.000000   \n",
       "mean                   3.215227           2.830161   \n",
       "std                    2.988581           2.864562   \n",
       "min                    1.000000           1.000000   \n",
       "25%                    1.000000           1.000000   \n",
       "50%                    1.000000           1.000000   \n",
       "75%                    5.000000           4.000000   \n",
       "max                   10.000000          10.000000   \n",
       "\n",
       "       Single Epithelial Cell Size  Bland Chromatin  Normal Nucleoli  \\\n",
       "count                   683.000000       683.000000       683.000000   \n",
       "mean                      3.234261         3.445095         2.869693   \n",
       "std                       2.223085         2.449697         3.052666   \n",
       "min                       1.000000         1.000000         1.000000   \n",
       "25%                       2.000000         2.000000         1.000000   \n",
       "50%                       2.000000         3.000000         1.000000   \n",
       "75%                       4.000000         5.000000         4.000000   \n",
       "max                      10.000000        10.000000        10.000000   \n",
       "\n",
       "          Mitoses       Class  \n",
       "count  683.000000  683.000000  \n",
       "mean     1.603221    2.699854  \n",
       "std      1.732674    0.954592  \n",
       "min      1.000000    2.000000  \n",
       "25%      1.000000    2.000000  \n",
       "50%      1.000000    2.000000  \n",
       "75%      1.000000    4.000000  \n",
       "max     10.000000    4.000000  "
      ]
     },
     "execution_count": 9,
     "metadata": {},
     "output_type": "execute_result"
    }
   ],
   "source": [
    "data.describe()"
   ]
  },
  {
   "cell_type": "code",
   "execution_count": 10,
   "metadata": {},
   "outputs": [
    {
     "data": {
      "text/plain": [
       "Sample code number             683\n",
       "Clump Thickness                683\n",
       "Uniformity of Cell Size        683\n",
       "Uniformity of Cell Shape       683\n",
       "Marginal Adhesion              683\n",
       "Single Epithelial Cell Size    683\n",
       "Bare Nuclei                    683\n",
       "Bland Chromatin                683\n",
       "Normal Nucleoli                683\n",
       "Mitoses                        683\n",
       "Class                          683\n",
       "dtype: int64"
      ]
     },
     "execution_count": 10,
     "metadata": {},
     "output_type": "execute_result"
    }
   ],
   "source": [
    "data.count()"
   ]
  },
  {
   "cell_type": "code",
   "execution_count": 11,
   "metadata": {},
   "outputs": [
    {
     "data": {
      "text/plain": [
       "(683, 11)"
      ]
     },
     "execution_count": 11,
     "metadata": {},
     "output_type": "execute_result"
    }
   ],
   "source": [
    "data.shape"
   ]
  },
  {
   "cell_type": "code",
   "execution_count": 12,
   "metadata": {},
   "outputs": [
    {
     "data": {
      "text/plain": [
       "<bound method NDFrame.head of      Sample code number  Clump Thickness  Uniformity of Cell Size  \\\n",
       "0               1000025                5                        1   \n",
       "1               1002945                5                        4   \n",
       "2               1015425                3                        1   \n",
       "3               1016277                6                        8   \n",
       "4               1017023                4                        1   \n",
       "5               1017122                8                       10   \n",
       "6               1018099                1                        1   \n",
       "7               1018561                2                        1   \n",
       "8               1033078                2                        1   \n",
       "9               1033078                4                        2   \n",
       "10              1035283                1                        1   \n",
       "11              1036172                2                        1   \n",
       "12              1041801                5                        3   \n",
       "13              1043999                1                        1   \n",
       "14              1044572                8                        7   \n",
       "15              1047630                7                        4   \n",
       "16              1048672                4                        1   \n",
       "17              1049815                4                        1   \n",
       "18              1050670               10                        7   \n",
       "19              1050718                6                        1   \n",
       "20              1054590                7                        3   \n",
       "21              1054593               10                        5   \n",
       "22              1056784                3                        1   \n",
       "24              1059552                1                        1   \n",
       "25              1065726                5                        2   \n",
       "26              1066373                3                        2   \n",
       "27              1066979                5                        1   \n",
       "28              1067444                2                        1   \n",
       "29              1070935                1                        1   \n",
       "30              1070935                3                        1   \n",
       "..                  ...              ...                      ...   \n",
       "669             1350423                5                       10   \n",
       "670             1352848                3                       10   \n",
       "671             1353092                3                        2   \n",
       "672             1354840                2                        1   \n",
       "673             1354840                5                        3   \n",
       "674             1355260                1                        1   \n",
       "675             1365075                4                        1   \n",
       "676             1365328                1                        1   \n",
       "677             1368267                5                        1   \n",
       "678             1368273                1                        1   \n",
       "679             1368882                2                        1   \n",
       "680             1369821               10                       10   \n",
       "681             1371026                5                       10   \n",
       "682             1371920                5                        1   \n",
       "683              466906                1                        1   \n",
       "684              466906                1                        1   \n",
       "685              534555                1                        1   \n",
       "686              536708                1                        1   \n",
       "687              566346                3                        1   \n",
       "688              603148                4                        1   \n",
       "689              654546                1                        1   \n",
       "690              654546                1                        1   \n",
       "691              695091                5                       10   \n",
       "692              714039                3                        1   \n",
       "693              763235                3                        1   \n",
       "694              776715                3                        1   \n",
       "695              841769                2                        1   \n",
       "696              888820                5                       10   \n",
       "697              897471                4                        8   \n",
       "698              897471                4                        8   \n",
       "\n",
       "     Uniformity of Cell Shape  Marginal Adhesion  Single Epithelial Cell Size  \\\n",
       "0                           1                  1                            2   \n",
       "1                           4                  5                            7   \n",
       "2                           1                  1                            2   \n",
       "3                           8                  1                            3   \n",
       "4                           1                  3                            2   \n",
       "5                          10                  8                            7   \n",
       "6                           1                  1                            2   \n",
       "7                           2                  1                            2   \n",
       "8                           1                  1                            2   \n",
       "9                           1                  1                            2   \n",
       "10                          1                  1                            1   \n",
       "11                          1                  1                            2   \n",
       "12                          3                  3                            2   \n",
       "13                          1                  1                            2   \n",
       "14                          5                 10                            7   \n",
       "15                          6                  4                            6   \n",
       "16                          1                  1                            2   \n",
       "17                          1                  1                            2   \n",
       "18                          7                  6                            4   \n",
       "19                          1                  1                            2   \n",
       "20                          2                 10                            5   \n",
       "21                          5                  3                            6   \n",
       "22                          1                  1                            2   \n",
       "24                          1                  1                            2   \n",
       "25                          3                  4                            2   \n",
       "26                          1                  1                            1   \n",
       "27                          1                  1                            2   \n",
       "28                          1                  1                            2   \n",
       "29                          3                  1                            2   \n",
       "30                          1                  1                            1   \n",
       "..                        ...                ...                          ...   \n",
       "669                        10                  8                            5   \n",
       "670                         7                  8                            5   \n",
       "671                         1                  2                            2   \n",
       "672                         1                  1                            2   \n",
       "673                         2                  1                            3   \n",
       "674                         1                  1                            2   \n",
       "675                         4                  1                            2   \n",
       "676                         2                  1                            2   \n",
       "677                         1                  1                            2   \n",
       "678                         1                  1                            2   \n",
       "679                         1                  1                            2   \n",
       "680                        10                 10                            5   \n",
       "681                        10                 10                            4   \n",
       "682                         1                  1                            2   \n",
       "683                         1                  1                            2   \n",
       "684                         1                  1                            2   \n",
       "685                         1                  1                            2   \n",
       "686                         1                  1                            2   \n",
       "687                         1                  1                            2   \n",
       "688                         1                  1                            2   \n",
       "689                         1                  1                            2   \n",
       "690                         1                  3                            2   \n",
       "691                        10                  5                            4   \n",
       "692                         1                  1                            2   \n",
       "693                         1                  1                            2   \n",
       "694                         1                  1                            3   \n",
       "695                         1                  1                            2   \n",
       "696                        10                  3                            7   \n",
       "697                         6                  4                            3   \n",
       "698                         8                  5                            4   \n",
       "\n",
       "    Bare Nuclei  Bland Chromatin  Normal Nucleoli  Mitoses  Class  \n",
       "0             1                3                1        1      2  \n",
       "1            10                3                2        1      2  \n",
       "2             2                3                1        1      2  \n",
       "3             4                3                7        1      2  \n",
       "4             1                3                1        1      2  \n",
       "5            10                9                7        1      4  \n",
       "6            10                3                1        1      2  \n",
       "7             1                3                1        1      2  \n",
       "8             1                1                1        5      2  \n",
       "9             1                2                1        1      2  \n",
       "10            1                3                1        1      2  \n",
       "11            1                2                1        1      2  \n",
       "12            3                4                4        1      4  \n",
       "13            3                3                1        1      2  \n",
       "14            9                5                5        4      4  \n",
       "15            1                4                3        1      4  \n",
       "16            1                2                1        1      2  \n",
       "17            1                3                1        1      2  \n",
       "18           10                4                1        2      4  \n",
       "19            1                3                1        1      2  \n",
       "20           10                5                4        4      4  \n",
       "21            7                7               10        1      4  \n",
       "22            1                2                1        1      2  \n",
       "24            1                3                1        1      2  \n",
       "25            7                3                6        1      4  \n",
       "26            1                2                1        1      2  \n",
       "27            1                2                1        1      2  \n",
       "28            1                2                1        1      2  \n",
       "29            1                1                1        1      2  \n",
       "30            1                2                1        1      2  \n",
       "..          ...              ...              ...      ...    ...  \n",
       "669           5                7               10        1      4  \n",
       "670           8                7                4        1      4  \n",
       "671           1                3                1        1      2  \n",
       "672           1                3                1        1      2  \n",
       "673           1                1                1        1      2  \n",
       "674           1                2                1        1      2  \n",
       "675           1                1                1        1      2  \n",
       "676           1                2                1        1      2  \n",
       "677           1                1                1        1      2  \n",
       "678           1                1                1        1      2  \n",
       "679           1                1                1        1      2  \n",
       "680          10               10               10        7      4  \n",
       "681          10                5                6        3      4  \n",
       "682           1                3                2        1      2  \n",
       "683           1                1                1        1      2  \n",
       "684           1                1                1        1      2  \n",
       "685           1                1                1        1      2  \n",
       "686           1                1                1        1      2  \n",
       "687           1                2                3        1      2  \n",
       "688           1                1                1        1      2  \n",
       "689           1                1                1        8      2  \n",
       "690           1                1                1        1      2  \n",
       "691           5                4                4        1      4  \n",
       "692           1                1                1        1      2  \n",
       "693           1                2                1        2      2  \n",
       "694           2                1                1        1      2  \n",
       "695           1                1                1        1      2  \n",
       "696           3                8               10        2      4  \n",
       "697           4               10                6        1      4  \n",
       "698           5               10                4        1      4  \n",
       "\n",
       "[683 rows x 11 columns]>"
      ]
     },
     "execution_count": 12,
     "metadata": {},
     "output_type": "execute_result"
    }
   ],
   "source": [
    "data.head"
   ]
  },
  {
   "cell_type": "code",
   "execution_count": 13,
   "metadata": {},
   "outputs": [
    {
     "name": "stderr",
     "output_type": "stream",
     "text": [
      "C:\\Anaconda3\\lib\\site-packages\\sklearn\\cross_validation.py:41: DeprecationWarning: This module was deprecated in version 0.18 in favor of the model_selection module into which all the refactored classes and functions are moved. Also note that the interface of the new CV iterators are different from that of this module. This module will be removed in 0.20.\n",
      "  \"This module will be removed in 0.20.\", DeprecationWarning)\n"
     ]
    },
    {
     "data": {
      "text/plain": [
       "2    344\n",
       "4    168\n",
       "Name: Class, dtype: int64"
      ]
     },
     "execution_count": 13,
     "metadata": {},
     "output_type": "execute_result"
    }
   ],
   "source": [
    "# Split the data with train_test_split and choose 75% for training and 25% for testing randomly\n",
    "from sklearn.cross_validation import train_test_split\n",
    "X_train, X_test, y_train, y_test = train_test_split(data[column_names[1:10]], data[column_names[10]], test_size=0.25, random_state=33)\n",
    "y_train.value_counts()"
   ]
  },
  {
   "cell_type": "code",
   "execution_count": 14,
   "metadata": {},
   "outputs": [
    {
     "data": {
      "text/html": [
       "<div>\n",
       "<style scoped>\n",
       "    .dataframe tbody tr th:only-of-type {\n",
       "        vertical-align: middle;\n",
       "    }\n",
       "\n",
       "    .dataframe tbody tr th {\n",
       "        vertical-align: top;\n",
       "    }\n",
       "\n",
       "    .dataframe thead th {\n",
       "        text-align: right;\n",
       "    }\n",
       "</style>\n",
       "<table border=\"1\" class=\"dataframe\">\n",
       "  <thead>\n",
       "    <tr style=\"text-align: right;\">\n",
       "      <th></th>\n",
       "      <th>Clump Thickness</th>\n",
       "      <th>Uniformity of Cell Size</th>\n",
       "      <th>Uniformity of Cell Shape</th>\n",
       "      <th>Marginal Adhesion</th>\n",
       "      <th>Single Epithelial Cell Size</th>\n",
       "      <th>Bland Chromatin</th>\n",
       "      <th>Normal Nucleoli</th>\n",
       "      <th>Mitoses</th>\n",
       "    </tr>\n",
       "  </thead>\n",
       "  <tbody>\n",
       "    <tr>\n",
       "      <th>count</th>\n",
       "      <td>512.000000</td>\n",
       "      <td>512.000000</td>\n",
       "      <td>512.000000</td>\n",
       "      <td>512.000000</td>\n",
       "      <td>512.000000</td>\n",
       "      <td>512.00000</td>\n",
       "      <td>512.000000</td>\n",
       "      <td>512.000000</td>\n",
       "    </tr>\n",
       "    <tr>\n",
       "      <th>mean</th>\n",
       "      <td>4.324219</td>\n",
       "      <td>3.076172</td>\n",
       "      <td>3.111328</td>\n",
       "      <td>2.757812</td>\n",
       "      <td>3.169922</td>\n",
       "      <td>3.34375</td>\n",
       "      <td>2.744141</td>\n",
       "      <td>1.582031</td>\n",
       "    </tr>\n",
       "    <tr>\n",
       "      <th>std</th>\n",
       "      <td>2.791579</td>\n",
       "      <td>3.021135</td>\n",
       "      <td>2.925244</td>\n",
       "      <td>2.841532</td>\n",
       "      <td>2.222557</td>\n",
       "      <td>2.41631</td>\n",
       "      <td>2.977897</td>\n",
       "      <td>1.696407</td>\n",
       "    </tr>\n",
       "    <tr>\n",
       "      <th>min</th>\n",
       "      <td>1.000000</td>\n",
       "      <td>1.000000</td>\n",
       "      <td>1.000000</td>\n",
       "      <td>1.000000</td>\n",
       "      <td>1.000000</td>\n",
       "      <td>1.00000</td>\n",
       "      <td>1.000000</td>\n",
       "      <td>1.000000</td>\n",
       "    </tr>\n",
       "    <tr>\n",
       "      <th>25%</th>\n",
       "      <td>2.000000</td>\n",
       "      <td>1.000000</td>\n",
       "      <td>1.000000</td>\n",
       "      <td>1.000000</td>\n",
       "      <td>2.000000</td>\n",
       "      <td>2.00000</td>\n",
       "      <td>1.000000</td>\n",
       "      <td>1.000000</td>\n",
       "    </tr>\n",
       "    <tr>\n",
       "      <th>50%</th>\n",
       "      <td>4.000000</td>\n",
       "      <td>1.000000</td>\n",
       "      <td>1.000000</td>\n",
       "      <td>1.000000</td>\n",
       "      <td>2.000000</td>\n",
       "      <td>3.00000</td>\n",
       "      <td>1.000000</td>\n",
       "      <td>1.000000</td>\n",
       "    </tr>\n",
       "    <tr>\n",
       "      <th>75%</th>\n",
       "      <td>6.000000</td>\n",
       "      <td>4.000000</td>\n",
       "      <td>5.000000</td>\n",
       "      <td>3.000000</td>\n",
       "      <td>4.000000</td>\n",
       "      <td>4.00000</td>\n",
       "      <td>3.000000</td>\n",
       "      <td>1.000000</td>\n",
       "    </tr>\n",
       "    <tr>\n",
       "      <th>max</th>\n",
       "      <td>10.000000</td>\n",
       "      <td>10.000000</td>\n",
       "      <td>10.000000</td>\n",
       "      <td>10.000000</td>\n",
       "      <td>10.000000</td>\n",
       "      <td>10.00000</td>\n",
       "      <td>10.000000</td>\n",
       "      <td>10.000000</td>\n",
       "    </tr>\n",
       "  </tbody>\n",
       "</table>\n",
       "</div>"
      ],
      "text/plain": [
       "       Clump Thickness  Uniformity of Cell Size  Uniformity of Cell Shape  \\\n",
       "count       512.000000               512.000000                512.000000   \n",
       "mean          4.324219                 3.076172                  3.111328   \n",
       "std           2.791579                 3.021135                  2.925244   \n",
       "min           1.000000                 1.000000                  1.000000   \n",
       "25%           2.000000                 1.000000                  1.000000   \n",
       "50%           4.000000                 1.000000                  1.000000   \n",
       "75%           6.000000                 4.000000                  5.000000   \n",
       "max          10.000000                10.000000                 10.000000   \n",
       "\n",
       "       Marginal Adhesion  Single Epithelial Cell Size  Bland Chromatin  \\\n",
       "count         512.000000                   512.000000        512.00000   \n",
       "mean            2.757812                     3.169922          3.34375   \n",
       "std             2.841532                     2.222557          2.41631   \n",
       "min             1.000000                     1.000000          1.00000   \n",
       "25%             1.000000                     2.000000          2.00000   \n",
       "50%             1.000000                     2.000000          3.00000   \n",
       "75%             3.000000                     4.000000          4.00000   \n",
       "max            10.000000                    10.000000         10.00000   \n",
       "\n",
       "       Normal Nucleoli     Mitoses  \n",
       "count       512.000000  512.000000  \n",
       "mean          2.744141    1.582031  \n",
       "std           2.977897    1.696407  \n",
       "min           1.000000    1.000000  \n",
       "25%           1.000000    1.000000  \n",
       "50%           1.000000    1.000000  \n",
       "75%           3.000000    1.000000  \n",
       "max          10.000000   10.000000  "
      ]
     },
     "execution_count": 14,
     "metadata": {},
     "output_type": "execute_result"
    }
   ],
   "source": [
    "X_train.describe()"
   ]
  },
  {
   "cell_type": "code",
   "execution_count": 15,
   "metadata": {},
   "outputs": [
    {
     "data": {
      "text/plain": [
       "2    100\n",
       "4     71\n",
       "Name: Class, dtype: int64"
      ]
     },
     "execution_count": 15,
     "metadata": {},
     "output_type": "execute_result"
    }
   ],
   "source": [
    "y_test.value_counts()"
   ]
  },
  {
   "cell_type": "code",
   "execution_count": 16,
   "metadata": {},
   "outputs": [],
   "source": [
    "# Import 标准化 from sklearn to scale the data\n",
    "from sklearn.preprocessing import StandardScaler\n",
    "from sklearn.linear_model import LogisticRegression\n",
    "from sklearn.linear_model import SGDClassifier\n",
    "from scipy import stats\n",
    "ss=StandardScaler()"
   ]
  },
  {
   "cell_type": "code",
   "execution_count": 17,
   "metadata": {},
   "outputs": [],
   "source": [
    "# Scale the data\n",
    "X_train = ss.fit_transform(X_train)"
   ]
  },
  {
   "cell_type": "code",
   "execution_count": 18,
   "metadata": {},
   "outputs": [],
   "source": [
    "X_test = ss.fit_transform(X_test)"
   ]
  },
  {
   "cell_type": "code",
   "execution_count": 19,
   "metadata": {},
   "outputs": [
    {
     "data": {
      "text/plain": [
       "array([[-1.19196677, -0.68788787, -0.03809494, -0.61921941, -0.52690038,\n",
       "        -0.6689353 , -0.55666054, -0.58626819, -0.34343195],\n",
       "       [-1.19196677,  0.30608745, -0.03809494,  2.55118397,  0.37384418,\n",
       "         1.86597741,  0.68611648,  1.09441105, -0.34343195],\n",
       "       [ 0.24231522, -0.02523765, -0.72246721, -0.61921941, -0.52690038,\n",
       "        -0.6689353 , -0.97091955, -0.58626819, -0.34343195]])"
      ]
     },
     "execution_count": 19,
     "metadata": {},
     "output_type": "execute_result"
    }
   ],
   "source": [
    "X_train[0:3,:]"
   ]
  },
  {
   "cell_type": "code",
   "execution_count": 20,
   "metadata": {},
   "outputs": [
    {
     "data": {
      "text/plain": [
       "DescribeResult(nobs=171, minmax=(array([-1.31898582, -0.74601605, -0.80203241, -0.70056629, -1.09640363,\n",
       "       -0.79166185, -1.08955212, -0.69374911, -0.36324158]), array([1.80877871, 2.08186251, 2.05520805, 2.37992376, 2.96953659,\n",
       "       1.54237568, 2.47815152, 2.08666723, 4.54051973])), mean=array([-1.35044672e-16, -2.07761034e-17,  3.11641551e-17,  1.55820775e-17,\n",
       "       -5.19402585e-17,  5.19402585e-17, -1.03880517e-17,  3.11641551e-17,\n",
       "       -5.19402585e-17]), variance=array([1.00588235, 1.00588235, 1.00588235, 1.00588235, 1.00588235,\n",
       "       1.00588235, 1.00588235, 1.00588235, 1.00588235]), skewness=array([0.48204156, 1.02428567, 0.92776671, 1.33126365, 1.25565039,\n",
       "       0.69008292, 0.84828846, 1.12099736, 3.28367865]), kurtosis=array([-0.83100281, -0.45391156, -0.57529356,  0.40814522,  0.62835832,\n",
       "       -1.3427985 , -0.42786041, -0.33647082, 10.39717159]))"
      ]
     },
     "execution_count": 20,
     "metadata": {},
     "output_type": "execute_result"
    }
   ],
   "source": [
    "stats.describe(X_test)"
   ]
  },
  {
   "cell_type": "code",
   "execution_count": 21,
   "metadata": {},
   "outputs": [
    {
     "data": {
      "text/plain": [
       "array([-5.55111512e-17,  6.33174069e-17,  1.99493200e-17, -4.33680869e-18,\n",
       "        6.24500451e-17,  4.33680869e-18,  1.12757026e-17, -4.16333634e-17,\n",
       "        4.51028104e-17])"
      ]
     },
     "execution_count": 21,
     "metadata": {},
     "output_type": "execute_result"
    }
   ],
   "source": [
    "# The means are actually 0\n",
    "X_train.mean(axis=0)"
   ]
  },
  {
   "cell_type": "code",
   "execution_count": 22,
   "metadata": {},
   "outputs": [
    {
     "data": {
      "text/plain": [
       "array([1., 1., 1., 1., 1., 1., 1., 1., 1.])"
      ]
     },
     "execution_count": 22,
     "metadata": {},
     "output_type": "execute_result"
    }
   ],
   "source": [
    "X_train.std(axis=0)"
   ]
  },
  {
   "cell_type": "code",
   "execution_count": 23,
   "metadata": {},
   "outputs": [],
   "source": [
    "lr = LogisticRegression()"
   ]
  },
  {
   "cell_type": "code",
   "execution_count": 24,
   "metadata": {},
   "outputs": [],
   "source": [
    "sgdc = SGDClassifier()"
   ]
  },
  {
   "cell_type": "code",
   "execution_count": 25,
   "metadata": {},
   "outputs": [
    {
     "data": {
      "text/plain": [
       "LogisticRegression(C=1.0, class_weight=None, dual=False, fit_intercept=True,\n",
       "          intercept_scaling=1, max_iter=100, multi_class='ovr', n_jobs=1,\n",
       "          penalty='l2', random_state=None, solver='liblinear', tol=0.0001,\n",
       "          verbose=0, warm_start=False)"
      ]
     },
     "execution_count": 25,
     "metadata": {},
     "output_type": "execute_result"
    }
   ],
   "source": [
    "lr.fit(X_train, y_train)"
   ]
  },
  {
   "cell_type": "code",
   "execution_count": 26,
   "metadata": {},
   "outputs": [],
   "source": [
    "lr_y_predict = lr.predict(X_test)"
   ]
  },
  {
   "cell_type": "code",
   "execution_count": 27,
   "metadata": {},
   "outputs": [
    {
     "name": "stderr",
     "output_type": "stream",
     "text": [
      "C:\\Anaconda3\\lib\\site-packages\\sklearn\\linear_model\\stochastic_gradient.py:128: FutureWarning: max_iter and tol parameters have been added in <class 'sklearn.linear_model.stochastic_gradient.SGDClassifier'> in 0.19. If both are left unset, they default to max_iter=5 and tol=None. If tol is not None, max_iter defaults to max_iter=1000. From 0.21, default max_iter will be 1000, and default tol will be 1e-3.\n",
      "  \"and default tol will be 1e-3.\" % type(self), FutureWarning)\n"
     ]
    },
    {
     "data": {
      "text/plain": [
       "SGDClassifier(alpha=0.0001, average=False, class_weight=None, epsilon=0.1,\n",
       "       eta0=0.0, fit_intercept=True, l1_ratio=0.15,\n",
       "       learning_rate='optimal', loss='hinge', max_iter=None, n_iter=None,\n",
       "       n_jobs=1, penalty='l2', power_t=0.5, random_state=None,\n",
       "       shuffle=True, tol=None, verbose=0, warm_start=False)"
      ]
     },
     "execution_count": 27,
     "metadata": {},
     "output_type": "execute_result"
    }
   ],
   "source": [
    "sgdc.fit(X_train, y_train)"
   ]
  },
  {
   "cell_type": "code",
   "execution_count": 28,
   "metadata": {},
   "outputs": [],
   "source": [
    "sgdc_y_predict = sgdc.predict(X_test)"
   ]
  },
  {
   "cell_type": "code",
   "execution_count": 29,
   "metadata": {},
   "outputs": [],
   "source": [
    "from sklearn.metrics import classification_report"
   ]
  },
  {
   "cell_type": "code",
   "execution_count": 30,
   "metadata": {},
   "outputs": [
    {
     "name": "stdout",
     "output_type": "stream",
     "text": [
      "Accuracy of LR Classifier: 0.9707602339181286\n",
      "             precision    recall  f1-score   support\n",
      "\n",
      "     Benigh       0.96      0.99      0.98       100\n",
      "  Malignant       0.99      0.94      0.96        71\n",
      "\n",
      "avg / total       0.97      0.97      0.97       171\n",
      "\n"
     ]
    }
   ],
   "source": [
    "print('Accuracy of LR Classifier:', lr.score(X_test, y_test))\n",
    "print(classification_report(y_test, lr_y_predict, target_names=['Benigh', 'Malignant']))"
   ]
  },
  {
   "cell_type": "code",
   "execution_count": 31,
   "metadata": {},
   "outputs": [
    {
     "name": "stdout",
     "output_type": "stream",
     "text": [
      "Accuracy of SGD Classifier: 0.9824561403508771\n",
      "             precision    recall  f1-score   support\n",
      "\n",
      "     Benigh       0.98      0.99      0.99       100\n",
      "  Malignant       0.99      0.97      0.98        71\n",
      "\n",
      "avg / total       0.98      0.98      0.98       171\n",
      "\n"
     ]
    }
   ],
   "source": [
    "print('Accuracy of SGD Classifier:', sgdc.score(X_test, y_test))\n",
    "print(classification_report(y_test, sgdc_y_predict, target_names=['Benigh', 'Malignant']))"
   ]
  },
  {
   "cell_type": "code",
   "execution_count": null,
   "metadata": {},
   "outputs": [],
   "source": []
  }
 ],
 "metadata": {
  "kernelspec": {
   "display_name": "Python 3 (Spyder)",
   "language": "python3",
   "name": "python3"
  },
  "language_info": {
   "codemirror_mode": {
    "name": "ipython",
    "version": 3
   },
   "file_extension": ".py",
   "mimetype": "text/x-python",
   "name": "python",
   "nbconvert_exporter": "python",
   "pygments_lexer": "ipython3",
   "version": "3.6.4"
  }
 },
 "nbformat": 4,
 "nbformat_minor": 2
}
